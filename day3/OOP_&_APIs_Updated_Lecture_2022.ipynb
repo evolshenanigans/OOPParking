{
 "cells": [
  {
   "cell_type": "markdown",
   "metadata": {},
   "source": [
    "# Object Oriented Programming 2 - examples and APIs\n"
   ]
  },
  {
   "cell_type": "markdown",
   "metadata": {},
   "source": [
    "## Tasks Today:\n",
    "\n",
    "   \n",
    "\n",
    "1) <b>Shopping Cart Example</b> <br>\n",
    "2) <b>Requests and the pokemon API </b> <br>\n",
    " "
   ]
  },
  {
   "cell_type": "markdown",
   "metadata": {},
   "source": [
    "# Goal \n",
    "### build a shopping cart program with prices and quantities using objects and a dictionary"
   ]
  },
  {
   "cell_type": "code",
   "execution_count": 2,
   "metadata": {},
   "outputs": [
    {
     "name": "stdout",
     "output_type": "stream",
     "text": [
      "buy something next time... Please\n"
     ]
    }
   ],
   "source": [
    "from IPython.display import clear_output as clear\n",
    "# Create a class called cart that retains items and has methods to add, remove, and show\n",
    "\n",
    "# this class is just responsible for the cart object and the actions of the cart object\n",
    "class Cart():\n",
    "    def __init__(self):\n",
    "        self.items = {}\n",
    "    \n",
    "    def add(self):\n",
    "        clear()\n",
    "        new_item = input(\"What do you want to get? \")\n",
    "        quantity = int(input(f\"How many {new_item}s do you want? (insert number) \"))\n",
    "        if new_item not in self.items.keys():\n",
    "            self.items[new_item] = quantity\n",
    "        else:\n",
    "            self.items[new_item] += quantity\n",
    "        print(f\"{quantity} {new_item}s are in the cart\")\n",
    "        \n",
    "    def remove(self):\n",
    "        clear()\n",
    "        discard = input('What would you like to discard? ')\n",
    "        quantity = int(input(\" How many would you like to discard? \"))\n",
    "        try:\n",
    "            self.items[discard] -= quantity\n",
    "            if self.items[discard] <= 0:\n",
    "                del self.items[discard]\n",
    "            print(f'{quantity} {discard}s have been removed.')\n",
    "        except:\n",
    "            print(f'{discard} was not in your cart.')\n",
    "        self.show()\n",
    "        \n",
    "    def show(self):\n",
    "        print(f\"Your cart contains the listed items\")\n",
    "        for item,quantity in self.items.items():\n",
    "            print(f\"{item} | quantity: {quantity}\")\n",
    "            \n",
    "    def checkout(self):\n",
    "        clear()\n",
    "        if not self.items:\n",
    "            print(\"buy something next time... Please\")\n",
    "        else:\n",
    "            print('Thanks for shopping!')\n",
    "            self.show()\n",
    "        \n",
    "    \n",
    "    \n",
    "# control the logic and flow/operation of our overall program\n",
    "class Main:\n",
    "    def showInstructions():\n",
    "        print(\"\"\"\n",
    "Welcome to the Shopping Program.\n",
    "Options:\n",
    "[1] Show Current Cart\n",
    "[2] Add Item\n",
    "[3] Remove Item\n",
    "[4] Quit\n",
    "        \"\"\")\n",
    "    \n",
    "    # driver code - responsible for actually calling all of my functions\n",
    "    def run():\n",
    "        Main.showInstructions()\n",
    "        my_cart = Cart()\n",
    "        \n",
    "        while True:\n",
    "            choice = input(\"What would you like to do? \")\n",
    "            if choice == '1':\n",
    "                if my_cart.items == {}:\n",
    "                    print('Your cart is empty... start shopping')\n",
    "                else:\n",
    "                    my_cart.show()\n",
    "            elif choice == '2':\n",
    "                my_cart.add()\n",
    "            elif choice == '3':\n",
    "                if my_cart.items == {}:\n",
    "                    print('your cart is empty... add something before you remove it')\n",
    "                else:\n",
    "                    my_cart.remove()\n",
    "            elif choice == '4':\n",
    "                my_cart.checkout()\n",
    "                break\n",
    "            else:\n",
    "                print(\"invalid input... please try again.\")\n",
    "                \n",
    "Main.run()"
   ]
  },
  {
   "cell_type": "markdown",
   "metadata": {},
   "source": [
    "# working with APis"
   ]
  },
  {
   "cell_type": "markdown",
   "metadata": {},
   "source": [
    "<p> What exactly is an API? <br> <br>\n",
    "API is the acronym for Application Programming Interface, which is a software intermediary that allows two applications to talk to each other. Each time you use an app like Facebook, send an instant message, or check the weather on your phone, you're using an API. </p>"
   ]
  },
  {
   "cell_type": "markdown",
   "metadata": {},
   "source": [
    "### The Poke API  allows you to retreive a pokemon's information from PokeAPI https://pokeapi.co/\n",
    "\n"
   ]
  },
  {
   "cell_type": "code",
   "execution_count": 2,
   "metadata": {},
   "outputs": [
    {
     "name": "stdout",
     "output_type": "stream",
     "text": [
      "dict_keys(['abilities', 'base_experience', 'forms', 'game_indices', 'height', 'held_items', 'id', 'is_default', 'location_area_encounters', 'moves', 'name', 'order', 'past_types', 'species', 'sprites', 'stats', 'types', 'weight'])\n"
     ]
    }
   ],
   "source": [
    "# making an API call\n",
    "import requests\n",
    "\n",
    "r = requests.get('https://pokeapi.co/api/v2/pokemon/haunter')\n",
    "if r.status_code == 200:\n",
    "    data = r.json()\n",
    "\n",
    "print(data.keys())\n",
    "\n"
   ]
  },
  {
   "cell_type": "markdown",
   "metadata": {},
   "source": [
    "### Display a Pokemon's name, weight, abilities, and types"
   ]
  },
  {
   "cell_type": "code",
   "execution_count": 3,
   "metadata": {},
   "outputs": [
    {
     "name": "stdout",
     "output_type": "stream",
     "text": [
      "haunter\n"
     ]
    }
   ],
   "source": [
    "# name, abilities, types, and weight\n",
    "# get the name\n",
    "name = data['name']\n",
    "print(name)"
   ]
  },
  {
   "cell_type": "code",
   "execution_count": 4,
   "metadata": {},
   "outputs": [
    {
     "name": "stdout",
     "output_type": "stream",
     "text": [
      "['ghost', 'poison']\n"
     ]
    }
   ],
   "source": [
    "# get types\n",
    "types = [pokemon['type']['name'] for pokemon in data['types']]\n",
    "\n",
    "print(types)"
   ]
  },
  {
   "cell_type": "code",
   "execution_count": 5,
   "metadata": {},
   "outputs": [
    {
     "name": "stdout",
     "output_type": "stream",
     "text": [
      "1\n"
     ]
    }
   ],
   "source": [
    "# get weight\n",
    "weight = data['weight']\n",
    "print(weight)"
   ]
  },
  {
   "cell_type": "code",
   "execution_count": 9,
   "metadata": {},
   "outputs": [
    {
     "name": "stdout",
     "output_type": "stream",
     "text": [
      "['levitate']\n"
     ]
    }
   ],
   "source": [
    "# get abilities\n",
    "abilities = [pokemon['ability']['name'] for pokemon in data['abilities']]\n",
    "print(abilities)"
   ]
  },
  {
   "cell_type": "code",
   "execution_count": 8,
   "metadata": {},
   "outputs": [],
   "source": [
    "# Create a structure for a single pokemon\n",
    "pokemon_x = {\n",
    "    \n",
    "'name': '',\n",
    "'abilities': [],\n",
    "'weight': '',\n",
    "'types': []\n",
    "}\n"
   ]
  },
  {
   "cell_type": "code",
   "execution_count": 12,
   "metadata": {},
   "outputs": [
    {
     "data": {
      "text/plain": [
       "{'name': 'haunter',\n",
       " 'abilities': ['levitate'],\n",
       " 'weight': 1,\n",
       " 'types': ['ghost', 'poison']}"
      ]
     },
     "execution_count": 12,
     "metadata": {},
     "output_type": "execute_result"
    }
   ],
   "source": [
    "haunter = {\n",
    "    \"name\": name,\n",
    "    'abilities': abilities,\n",
    "    'weight': weight,\n",
    "    'types' : types\n",
    "}\n",
    "haunter"
   ]
  },
  {
   "cell_type": "markdown",
   "metadata": {},
   "source": [
    "#### Create a function to Pull in your own Pokemon's data "
   ]
  },
  {
   "cell_type": "code",
   "execution_count": 36,
   "metadata": {},
   "outputs": [
    {
     "name": "stdout",
     "output_type": "stream",
     "text": [
      "[856, 129, 842, 198, 314, 89]\n"
     ]
    }
   ],
   "source": [
    "from random import randint\n",
    "# # Random number generated for each pokemon id\n",
    "pokemans = [randint(1,898) for i in range(6)]\n",
    "\n",
    "the_team = ['klang', 'whimsicott','burmy','poliwrath','electrike','clauncher']\n",
    "\n",
    "print(pokemans)\n",
    "def poke_api_call(pokemon):\n",
    "    req = requests.get(f'https://pokeapi.co/api/v2/pokemon/{pokemon}')\n",
    "    if req.status_code == 200:\n",
    "        data = req.json()\n",
    "    \n",
    "        name = data['name']\n",
    "        types = [pokemon['type']['name'] for pokemon in data['types']]\n",
    "        abilities = [pokemon['ability']['name'] for pokemon in data['abilities']]\n",
    "        weight = data['weight']\n",
    "    \n",
    "        poke = {\n",
    "            \"name\": name,\n",
    "            'abilities': abilities,\n",
    "            'weight': weight,\n",
    "            'types' : types\n",
    "        }\n",
    "        return poke"
   ]
  },
  {
   "cell_type": "code",
   "execution_count": 30,
   "metadata": {},
   "outputs": [
    {
     "data": {
      "text/plain": [
       "{'name': 'klang',\n",
       " 'abilities': ['plus', 'minus', 'clear-body'],\n",
       " 'weight': 510,\n",
       " 'types': ['steel']}"
      ]
     },
     "execution_count": 30,
     "metadata": {},
     "output_type": "execute_result"
    }
   ],
   "source": [
    "poke_api_call(\"klang\")"
   ]
  },
  {
   "cell_type": "markdown",
   "metadata": {},
   "source": [
    "#### Use your function to create a dictionary of your Johto League 6  (favorite 6 pokemon)"
   ]
  },
  {
   "cell_type": "code",
   "execution_count": 38,
   "metadata": {},
   "outputs": [
    {
     "data": {
      "text/plain": [
       "{'Hatenna': {'name': 'hatenna',\n",
       "  'abilities': ['healer', 'anticipation', 'magic-bounce'],\n",
       "  'weight': 34,\n",
       "  'types': ['psychic']},\n",
       " 'Magikarp': {'name': 'magikarp',\n",
       "  'abilities': ['swift-swim', 'rattled'],\n",
       "  'weight': 100,\n",
       "  'types': ['water']},\n",
       " 'Appletun': {'name': 'appletun',\n",
       "  'abilities': ['ripen', 'gluttony', 'thick-fat'],\n",
       "  'weight': 130,\n",
       "  'types': ['grass', 'dragon']},\n",
       " 'Murkrow': {'name': 'murkrow',\n",
       "  'abilities': ['insomnia', 'super-luck', 'prankster'],\n",
       "  'weight': 21,\n",
       "  'types': ['dark', 'flying']},\n",
       " 'Illumise': {'name': 'illumise',\n",
       "  'abilities': ['oblivious', 'tinted-lens', 'prankster'],\n",
       "  'weight': 177,\n",
       "  'types': ['bug']},\n",
       " 'Muk': {'name': 'muk',\n",
       "  'abilities': ['stench', 'sticky-hold', 'poison-touch'],\n",
       "  'weight': 300,\n",
       "  'types': ['poison']}}"
      ]
     },
     "execution_count": 38,
     "metadata": {},
     "output_type": "execute_result"
    }
   ],
   "source": [
    "# Place all 6 of your pokemon on the object below, each pokemon should have at least as much info as Pikachu did.\n",
    "my_six_pokemon = {}\n",
    "\n",
    "for member in pokemans:\n",
    "    poke_stats = poke_api_call(member)\n",
    "    my_six_pokemon[poke_stats['name'].title()] = poke_stats\n",
    "\n",
    "my_six_pokemon"
   ]
  },
  {
   "cell_type": "markdown",
   "metadata": {},
   "source": [
    "## Lets create a class called 'Pokemon' and create our pokemon as instances"
   ]
  },
  {
   "cell_type": "code",
   "execution_count": 39,
   "metadata": {},
   "outputs": [],
   "source": [
    "class Pokemon():\n",
    "    def __init__(self,name):\n",
    "        self.name = name\n",
    "        self.types = []\n",
    "        self.abilities = []\n",
    "        self.weight = None\n",
    "        self.poke_api_call()\n",
    "        \n",
    "    def poke_api_call(self):\n",
    "        r = requests.get(f\"https://pokeapi.co/api/v2/pokemon/{self.name}\")\n",
    "        if r.status_code == 200:\n",
    "            pokemon = r.json()\n",
    "        else:\n",
    "            print(f'Ran into an issue {r.status_code}')\n",
    "            return\n",
    "        self.name = pokemon['name']\n",
    "        self.types = [pokemon['type']['name'] for pokemon in data['types']]\n",
    "        self.abilities = [poke['ability']['name'] for poke in data['abilities']]\n",
    "        self.weight = pokemon['weight']\n",
    "        print(f'{self.name}\\'data has been updated! ')\n",
    "        \n",
    "    def __repr__(self):\n",
    "        return f\"You caught a {self.name}!!\"\n",
    "\n"
   ]
  },
  {
   "cell_type": "markdown",
   "metadata": {},
   "source": [
    "### Let's Catch some Pokemon"
   ]
  },
  {
   "cell_type": "code",
   "execution_count": 42,
   "metadata": {},
   "outputs": [
    {
     "name": "stdout",
     "output_type": "stream",
     "text": [
      "pikachu'data has been updated! \n",
      "{'name': 'pikachu', 'types': ['ghost', 'poison'], 'abilities': ['levitate'], 'weight': 60}\n",
      "<class '__main__.Pokemon'>\n",
      "You caught a pikachu!!\n"
     ]
    }
   ],
   "source": [
    "pikachu = Pokemon('pikachu')\n",
    "\n",
    "print(pikachu.__dict__)\n",
    "\n",
    "print(type(pikachu))\n",
    "\n",
    "print(pikachu)"
   ]
  },
  {
   "cell_type": "code",
   "execution_count": 41,
   "metadata": {},
   "outputs": [
    {
     "name": "stdout",
     "output_type": "stream",
     "text": [
      "electivire'data has been updated! \n",
      "ferrothorn'data has been updated! \n",
      "drapion'data has been updated! \n",
      "exploud'data has been updated! \n",
      "zamazenta'data has been updated! \n",
      "sliggoo'data has been updated! \n"
     ]
    },
    {
     "data": {
      "text/plain": [
       "{'electivire': You caught a electivire!!,\n",
       " 'ferrothorn': You caught a ferrothorn!!,\n",
       " 'drapion': You caught a drapion!!,\n",
       " 'exploud': You caught a exploud!!,\n",
       " 'zamazenta': You caught a zamazenta!!,\n",
       " 'sliggoo': You caught a sliggoo!!}"
      ]
     },
     "execution_count": 41,
     "metadata": {},
     "output_type": "execute_result"
    }
   ],
   "source": [
    "pokemon = ['lugia', 'pikachu', 'charmander', 'bulbasaur', 'squirtle', 'hitmonlee']\n",
    "randoms = [ randint(1,898) for i in range(6)]\n",
    "# dictionary of structure {name: object,}\n",
    "pokedex = {}\n",
    "\n",
    "for name in randoms:\n",
    "    new = Pokemon(name)\n",
    "    pokedex[new.name] = new\n",
    "    \n",
    "pokedex"
   ]
  },
  {
   "cell_type": "markdown",
   "metadata": {},
   "source": [
    "## Exercise 1:"
   ]
  },
  {
   "cell_type": "markdown",
   "metadata": {},
   "source": [
    "### Create a Method prints an image of your pokemon\n",
    "\n",
    "<p>HINT: You may need another attribute as well to store your image url within. </p>"
   ]
  },
  {
   "cell_type": "code",
   "execution_count": 68,
   "metadata": {},
   "outputs": [
    {
     "data": {
      "image/jpeg": "[encoded data removed]",
      "text/plain": [
       "<IPython.core.display.Image object>"
      ]
     },
     "metadata": {
      "image/jpeg": {
       "width": 300
      }
     },
     "output_type": "display_data"
    }
   ],
   "source": [
    "# Display an image in Jupyter notebook\n",
    "from IPython.display import Image,  SVG\n",
    "display(Image( 'https://i.redd.it/45n4mhusa8l41.jpg', width = 300))\n"
   ]
  },
  {
   "cell_type": "code",
   "execution_count": 94,
   "metadata": {},
   "outputs": [],
   "source": [
    "\n",
    "class Pokemon(Evolver):\n",
    "    def __init__(self,name):\n",
    "        super().__init__()\n",
    "        self.name = name\n",
    "        self.types = []\n",
    "        self.abilities = []\n",
    "        self.weight = None\n",
    "        self.image = None\n",
    "        self.poke_api_call()\n",
    "        \n",
    "    def poke_api_call(self):\n",
    "        r = requests.get(f\"https://pokeapi.co/api/v2/pokemon/{self.name}\")\n",
    "        if r.status_code == 200:\n",
    "            pokemon = r.json()\n",
    "        else:\n",
    "            print(f'Ran into an issue {r.status_code}')\n",
    "            return\n",
    "        self.name = pokemon['name']\n",
    "        self.types = [pokemon['type']['name'] for pokemon in data['types']]\n",
    "        self.abilities = [poke['ability']['name'] for poke in data['abilities']]\n",
    "        self.weight = pokemon['weight']\n",
    "        self.image = pokemon[\"sprites\"][\"other\"][\"dream_world\"][\"front_default\"]\n",
    "        print(f'You\\'ve got a new {self.name}!')\n",
    "    \n",
    "    def display(self):\n",
    "        display(SVG(url = self.image))\n",
    "        \n",
    "    def __repr__(self):\n",
    "        return f\"You caught a {self.name}!!\""
   ]
  },
  {
   "cell_type": "code",
   "execution_count": 74,
   "metadata": {},
   "outputs": [
    {
     "name": "stdout",
     "output_type": "stream",
     "text": [
      "You've got a new gengar!\n",
      "https://raw.githubusercontent.com/PokeAPI/sprites/master/sprites/pokemon/other/dream-world/94.svg\n"
     ]
    },
    {
     "data": {
      "image/svg+xml": "<svg xmlns=\"http://www.w3.org/2000/svg\" version=\"1.1\" width=\"289px\" height=\"337px\" viewBox=\"-0.1 -0.25 289.25 337.35\"><g><path fill=\"#664497\" d=\"M243.1 57.8 Q268.3 53.85 284.55 55.65 L266.55 85.6 Q252.05 109.5 244.6 123.45 249.5 121.55 257.2 119.85 264.4 118.25 269.15 117.9 269.85 117.8 269.85 118.3 L269.6 119.3 Q269.05 121.2 266.95 125.7 L263.3 133.85 273.65 133.25 Q283.6 133.0 285.35 135.65 287.1 138.35 273.4 152.45 L259.0 166.55 Q263.2 166.35 268.45 167.4 273.85 168.5 274.1 169.8 274.35 171.0 263.35 182.45 254.2 192.0 247.4 198.35 249.6 213.0 248.8 225.5 247.85 240.05 242.75 252.55 235.25 271.15 202.5 282.25 185.6 288.0 165.8 290.6 146.8 293.2 125.05 285.5 101.05 276.9 84.0 258.75 68.25 242.0 59.95 221.4 50.35 197.45 51.25 169.4 51.5 160.85 52.75 151.6 54.2 140.5 56.45 133.25 48.0 109.3 47.25 62.5 46.9 42.05 48.5 25.95 50.25 9.0 53.65 2.2 54.2 1.1 54.6 1.15 55.05 1.25 56.05 2.65 70.2 22.85 77.5 32.0 91.4 49.4 100.55 54.85 103.55 49.95 110.85 43.4 118.0 37.0 121.95 35.5 122.1 39.55 123.35 45.35 124.6 51.25 126.2 55.05 136.45 39.95 150.85 28.05 167.15 14.6 182.65 10.7 181.05 18.5 181.05 35.55 181.05 44.05 181.35 51.0 L190.0 48.6 Q200.1 46.2 207.6 46.2 L205.1 56.3 202.25 68.5 Q217.95 61.75 243.1 57.8\"/><path fill=\"#664497\" d=\"M1.9 193.5 Q2.05 192.65 5.65 190.3 L9.9 187.45 11.05 186.5 Q11.55 186.05 11.85 185.05 12.25 183.6 14.9 179.4 18.6 173.6 23.35 168.75 38.1 153.8 56.7 154.25 61.35 154.4 65.15 162.25 68.65 169.45 70.2 180.25 71.35 188.1 69.0 196.35 66.5 205.0 62.55 204.0 49.9 200.9 32.6 204.45 20.1 207.05 13.5 210.5 12.65 210.95 12.4 207.85 12.2 204.9 12.6 203.95 L8.25 203.55 3.2 203.3 Q2.9 202.85 4.55 200.4 L6.3 198.0 Q1.7 194.95 1.9 193.5\"/><path fill=\"#664497\" d=\"M125.05 264.3 Q130.45 275.95 126.7 281.5 116.35 296.8 92.9 306.0 84.7 309.25 77.0 310.85 70.3 312.25 69.0 311.65 68.25 311.35 68.65 309.75 L69.75 306.4 63.25 306.8 59.4 306.3 Q59.15 305.9 60.25 302.35 L61.35 298.55 59.8 297.85 Q58.3 297.25 58.2 296.95 57.85 295.9 62.05 290.45 L63.0 289.55 Q61.2 287.15 59.25 280.9 56.5 272.25 57.25 264.8 58.0 257.25 64.8 249.4 72.0 241.15 80.7 239.25 87.2 237.8 94.4 239.3 103.35 241.2 112.05 247.5 119.9 253.25 125.05 264.3\"/><path fill=\"#664497\" d=\"M171.8 266.85 Q184.0 257.15 194.7 253.95 207.15 250.2 219.25 251.45 231.15 252.65 235.4 257.9 244.2 268.7 245.45 289.1 246.35 304.3 243.7 313.25 244.55 316.2 244.55 320.05 244.55 324.0 243.5 324.4 L238.75 324.3 Q235.05 323.85 233.95 323.15 L231.35 327.9 Q229.5 331.15 228.75 331.6 228.05 332.05 223.0 330.35 L217.55 328.35 Q215.8 330.4 213.1 332.6 210.3 334.8 209.65 334.7 208.6 334.45 204.2 322.95 186.65 315.55 174.55 304.0 162.8 292.75 160.45 281.85 159.35 276.75 171.8 266.85\"/><path fill=\"#664497\" d=\"M253.2 284.3 Q244.75 286.25 239.95 284.4 235.05 282.45 231.9 278.5 228.05 273.65 228.2 267.1 228.35 261.85 233.6 258.5 238.45 255.45 240.9 256.9 242.85 258.1 252.55 266.9 262.95 276.4 262.8 277.75 262.3 282.25 253.2 284.3\"/><path fill=\"#664497\" d=\"M222.3 173.7 Q236.85 172.5 248.8 182.9 255.65 188.8 259.8 196.45 260.75 198.15 261.7 197.65 263.0 197.0 266.25 196.7 270.15 196.3 271.1 197.55 L270.3 199.95 Q269.4 202.1 269.65 202.1 270.8 202.1 273.75 203.25 277.45 204.7 277.45 206.4 L274.7 208.3 Q271.95 209.9 271.95 210.15 L274.2 212.25 Q276.35 214.15 276.15 214.7 276.0 215.1 273.65 215.85 L271.0 216.65 Q265.4 219.75 255.85 221.95 247.35 223.9 239.5 224.35 233.1 224.75 224.8 223.0 215.7 221.05 211.6 217.85 209.25 215.95 206.5 208.95 202.85 199.7 204.05 191.05 204.85 185.15 212.0 179.25 218.3 174.1 222.3 173.7\"/><path fill=\"#ffffff\" d=\"M174.0 173.5 Q176.4 172.6 177.1 174.05 177.6 175.15 177.15 177.35 175.65 183.95 172.35 190.75 168.95 197.75 164.9 202.35 163.0 204.45 159.25 206.95 154.65 210.0 151.2 210.75 137.8 213.55 117.25 208.6 96.8 203.65 88.35 195.75 82.15 189.9 77.3 183.0 72.6 176.3 71.2 171.6 70.45 169.1 69.55 164.5 68.55 159.4 69.15 160.05 74.8 165.95 89.8 171.45 104.45 176.8 116.85 177.7 130.25 178.7 143.15 178.3 163.5 177.65 174.0 173.5\"/><path fill=\"#593984\" d=\"M284.05 136.15 Q285.45 135.4 285.85 135.9 286.2 136.35 285.6 137.45 283.45 141.15 269.85 155.65 255.3 171.2 250.65 173.5 L249.55 168.1 248.4 163.3 Q250.95 162.05 265.5 150.75 L284.05 136.15\"/><path fill=\"#593984\" d=\"M251.2 184.6 L260.4 178.45 272.1 170.05 Q273.45 168.9 273.25 170.4 271.95 172.85 264.25 181.0 L255.5 189.95 253.65 187.6 Q252.05 185.9 251.2 184.6\"/><path fill=\"#593984\" d=\"M176.35 29.7 Q179.4 17.6 181.35 13.5 L181.85 12.95 Q182.2 12.65 182.15 13.3 181.3 20.0 180.7 29.95 179.95 43.05 180.65 49.1 180.7 49.7 180.2 50.7 L179.25 51.8 176.15 53.85 Q174.7 54.6 174.25 53.1 172.2 46.2 176.35 29.7\"/><path fill=\"#593984\" d=\"M207.2 49.35 Q207.1 51.8 205.15 59.25 203.2 66.65 203.2 67.5 201.8 67.6 199.15 69.25 196.35 71.0 195.25 71.2 194.1 69.75 199.0 58.75 203.95 47.65 206.15 47.9 L206.75 48.35 Q207.2 48.8 207.2 49.35\"/><path fill=\"#593984\" d=\"M123.2 46.35 Q124.35 51.5 125.65 55.45 L122.9 60.9 Q121.3 59.05 120.1 56.5 118.6 53.45 118.35 50.7 118.05 47.2 119.75 41.65 121.3 36.55 121.9 36.65 121.85 40.1 123.2 46.35\"/><path fill=\"#593984\" d=\"M47.65 27.4 Q48.0 24.55 48.85 22.75 49.7 20.9 49.75 23.4 50.2 43.45 53.9 66.9 58.5 95.9 65.85 112.3 L61.85 120.25 Q58.2 127.25 56.05 132.2 48.35 108.6 46.6 73.7 45.15 45.8 47.65 27.4\"/><path fill=\"#593984\" d=\"M52.4 196.25 L54.15 203.2 Q44.55 202.45 39.0 203.45 36.0 204.0 24.1 207.8 L23.2 207.2 Q22.5 206.5 23.05 206.25 45.8 196.3 51.15 190.5 51.2 191.75 52.4 196.25\"/><path fill=\"#593984\" d=\"M253.7 222.6 Q245.8 224.55 239.95 224.85 232.75 225.3 223.95 223.25 215.55 221.25 212.7 218.75 221.0 219.4 232.0 219.05 243.3 218.7 248.25 217.5 L252.25 216.95 254.6 217.0 Q256.4 218.8 264.05 217.55 L271.3 215.95 Q264.3 220.05 253.7 222.6\"/><path fill=\"#593984\" d=\"M109.7 268.3 Q135.15 281.5 159.0 280.8 160.6 280.75 162.75 285.6 164.95 290.45 162.45 290.7 150.45 292.0 136.5 288.7 122.15 285.25 108.6 277.55 77.4 259.8 63.5 228.45 61.9 224.9 61.65 223.75 61.45 222.8 62.3 224.15 79.95 252.8 109.7 268.3\"/><path fill=\"#593984\" d=\"M106.1 276.55 Q107.55 277.55 113.4 280.05 L122.4 284.0 Q125.35 285.4 117.6 292.4 110.15 299.15 102.7 302.6 98.5 304.55 90.65 306.55 82.95 308.5 84.15 307.8 91.8 303.4 98.7 293.25 105.15 283.8 105.9 277.35 L105.9 276.5 106.1 276.55\"/><path fill=\"#593984\" d=\"M243.7 285.85 Q240.65 267.95 242.75 270.1 246.2 273.7 252.85 276.95 258.2 279.6 261.5 280.3 263.3 280.7 255.9 283.8 248.55 286.9 243.7 285.85\"/><path fill=\"#593984\" d=\"M251.75 94.2 Q263.25 79.55 272.9 68.5 282.75 57.25 283.65 57.9 278.2 65.35 260.75 94.95 242.5 125.8 235.75 139.45 L241.6 147.3 Q245.3 152.85 246.85 157.6 249.1 164.35 250.75 174.85 252.25 184.8 251.45 184.6 250.0 183.25 244.3 179.9 236.85 175.6 230.8 173.65 230.8 163.7 228.35 153.85 226.15 145.0 222.8 139.15 221.8 132.55 251.75 94.2\"/><path fill=\"#593984\" d=\"M232.0 224.75 L242.35 224.2 249.8 222.85 Q248.2 235.25 238.55 261.55 234.95 256.45 232.35 254.3 232.8 248.95 230.95 241.35 229.3 234.5 228.3 234.1 221.7 231.9 216.55 226.6 212.15 222.1 211.0 217.9 215.2 220.0 221.75 222.15 228.05 224.15 232.0 224.75\"/><path fill=\"#0d131a\" d=\"M100.6 53.8 Q101.75 54.65 100.95 55.6 100.1 56.6 99.4 56.05 89.55 48.65 76.0 32.85 63.15 17.85 56.75 7.0 55.5 4.85 55.05 4.75 54.2 4.55 53.25 7.85 47.9 25.6 49.0 65.2 50.1 104.8 56.7 129.8 57.5 133.0 57.2 134.8 56.85 136.65 55.6 133.45 47.7 113.0 45.8 70.6 43.85 27.55 50.35 6.65 52.3 0.35 54.6 0.05 56.85 -0.25 59.85 5.05 67.05 17.5 80.05 32.95 92.7 48.0 100.6 53.8\"/><path fill=\"#0d131a\" d=\"M125.15 46.6 Q126.15 51.8 127.2 54.65 127.45 55.25 126.55 56.3 125.65 57.35 125.3 56.5 123.7 52.7 122.5 46.75 121.5 41.85 121.3 38.6 L121.15 38.0 120.55 38.1 Q115.6 41.05 107.35 49.3 95.75 60.85 91.6 71.15 90.95 72.8 90.25 72.45 89.55 72.05 90.4 69.2 92.5 62.25 102.25 51.05 111.4 40.5 118.25 36.15 122.0 33.75 122.8 33.95 123.5 34.1 123.75 37.05 124.15 41.55 125.15 46.6\"/><path fill=\"#0d131a\" d=\"M182.8 33.4 Q182.05 43.9 182.2 49.9 182.25 51.75 181.1 52.2 179.95 52.65 179.8 51.2 179.05 43.6 179.55 34.1 179.9 27.8 181.05 17.35 181.5 13.65 180.85 12.95 L178.15 13.15 Q164.9 17.6 149.25 31.15 132.85 45.3 123.95 61.0 122.85 62.95 122.4 62.45 121.95 61.9 122.85 59.3 126.45 49.4 142.05 33.95 159.85 16.25 176.8 9.7 183.75 7.0 184.85 8.0 185.6 8.6 184.8 14.15 183.6 22.7 182.8 33.4\"/><path fill=\"#0d131a\" d=\"M202.0 45.0 Q208.6 44.5 209.3 45.1 209.8 45.55 208.45 49.85 205.7 58.6 204.35 67.0 204.15 68.35 203.15 68.75 202.15 69.1 202.2 67.95 202.35 63.7 203.25 58.65 L204.8 51.25 Q205.3 48.65 204.7 48.2 L201.3 48.1 Q195.15 48.85 188.6 50.6 182.45 52.2 177.15 54.35 173.55 55.8 173.4 54.95 173.2 54.15 176.4 52.4 181.25 49.75 188.75 47.6 196.25 45.4 202.0 45.0\"/><path fill=\"#0d131a\" d=\"M260.05 117.55 L270.45 117.25 Q271.5 117.9 269.2 124.4 267.0 130.55 264.95 133.6 264.25 134.65 262.55 134.35 260.8 134.05 261.3 133.2 264.25 128.55 266.1 124.15 267.85 119.9 267.15 119.6 266.1 119.15 259.65 120.5 251.65 122.15 243.4 125.6 241.9 126.25 242.3 124.9 242.7 123.55 244.65 122.45 250.5 119.2 260.05 117.55\"/><path fill=\"#0d131a\" d=\"M243.2 59.25 Q219.75 63.1 198.0 71.05 192.85 72.9 192.4 72.35 191.95 71.8 196.2 69.55 208.1 63.3 232.15 58.3 257.2 53.05 276.15 53.45 285.3 53.65 286.1 55.3 286.75 56.8 281.95 64.5 L258.85 101.75 Q249.35 117.5 239.5 134.9 235.1 142.65 234.55 141.45 233.95 140.25 237.55 133.3 245.85 117.2 259.75 93.85 270.45 76.0 280.0 61.15 281.75 58.45 281.3 57.55 280.9 56.75 277.9 56.6 263.25 56.0 243.2 59.25\"/><path fill=\"#0d131a\" d=\"M56.15 129.25 Q61.3 114.3 68.7 104.75 72.3 100.05 74.15 98.55 76.25 96.8 72.5 103.1 62.65 119.6 58.25 133.1 53.05 148.8 52.5 167.9 51.6 198.4 62.45 223.65 72.15 246.15 90.15 262.45 106.35 277.15 126.45 284.35 145.35 291.2 162.2 289.55 L163.85 290.8 Q165.25 292.05 164.9 292.1 145.6 293.95 125.3 286.95 104.05 279.6 87.25 264.3 68.85 247.65 59.1 224.35 48.3 198.55 49.3 167.25 49.95 147.2 56.15 129.25\"/><path fill=\"#0d131a\" d=\"M3.5 193.85 Q3.5 194.15 4.9 195.25 6.2 196.3 7.0 196.7 7.75 197.05 7.6 197.95 7.45 198.85 5.85 198.2 -0.1 195.9 0.0 194.0 0.1 192.75 4.8 189.8 9.65 186.8 9.75 186.45 14.05 174.7 25.0 165.05 37.2 154.3 52.5 151.45 54.05 151.15 53.35 153.3 52.6 155.45 51.2 155.75 37.6 158.95 27.4 167.25 17.1 175.6 11.8 187.9 11.5 188.6 7.45 191.1 3.5 193.55 3.5 193.85\"/><path fill=\"#0d131a\" d=\"M125.3 285.95 Q115.2 298.35 94.75 307.05 86.1 310.75 78.8 312.15 71.35 313.6 67.9 312.15 66.45 311.55 67.55 308.2 68.25 306.0 69.4 304.05 71.15 301.05 71.85 301.4 72.55 301.7 71.7 304.4 71.1 306.15 70.95 307.55 70.8 309.2 71.35 309.65 72.4 310.5 78.7 309.0 85.3 307.35 93.1 304.15 113.85 295.65 121.7 285.0 122.3 284.2 124.1 284.7 125.95 285.15 125.3 285.95\"/><path fill=\"#0d131a\" d=\"M63.45 298.5 Q62.6 300.1 61.8 302.6 60.95 305.25 61.25 305.7 61.75 306.4 69.75 304.75 71.35 304.65 70.95 305.55 70.65 306.35 69.6 306.8 66.85 308.05 63.2 308.75 58.75 309.6 57.95 308.3 57.3 307.25 58.65 303.1 60.0 299.15 61.25 297.75 62.7 296.1 63.6 296.35 64.5 296.6 63.45 298.5\"/><path fill=\"#0d131a\" d=\"M57.55 293.5 Q59.85 289.8 62.05 288.3 62.7 287.8 63.7 288.95 64.65 290.05 64.05 290.45 62.05 291.8 60.55 294.15 59.25 296.1 59.4 296.65 59.55 297.0 60.95 297.25 L62.95 297.6 Q63.5 297.7 62.95 298.9 62.35 300.1 61.65 300.05 L58.75 299.7 Q56.45 299.2 55.9 298.3 55.25 297.25 57.55 293.5\"/><path fill=\"#0d131a\" d=\"M70.35 243.4 Q72.65 242.2 72.95 243.55 73.25 244.9 72.0 245.6 60.45 252.3 59.0 267.1 57.45 282.35 68.3 294.4 70.35 296.65 69.75 297.5 69.2 298.35 66.85 295.95 52.8 281.55 55.75 264.6 57.0 257.55 61.1 251.75 65.0 246.2 70.35 243.4\"/><path fill=\"#0d131a\" d=\"M158.75 281.45 Q157.1 275.4 158.2 275.25 159.3 275.1 161.55 281.3 166.9 296.0 179.45 306.65 188.9 314.6 204.95 322.0 205.8 322.4 207.8 327.5 209.8 332.5 210.35 332.65 211.35 332.95 214.25 329.4 L216.9 325.85 Q227.2 330.85 228.25 330.5 229.25 330.2 232.9 320.5 241.8 323.3 242.6 322.6 243.25 322.0 243.05 320.05 242.75 317.8 241.4 314.65 241.3 314.35 241.55 313.4 244.95 301.65 242.65 285.8 240.2 269.1 232.6 256.95 230.05 252.85 231.3 252.6 232.55 252.4 235.0 255.55 244.0 267.25 246.25 285.25 248.15 301.0 244.4 313.3 244.3 313.6 245.55 318.55 246.6 323.7 245.8 325.0 244.95 326.35 239.9 325.3 L234.6 323.95 233.1 328.55 Q231.25 333.4 229.6 334.35 228.5 335.0 222.9 332.25 L217.55 329.4 214.25 333.3 Q210.7 337.1 209.45 336.85 207.7 336.5 205.35 330.2 202.9 323.7 201.75 323.25 183.7 315.85 173.75 306.6 162.8 296.4 158.75 281.45\"/><path fill=\"#0d131a\" d=\"M77.2 118.0 Q79.1 124.5 87.1 139.2 96.15 155.8 102.3 161.75 L104.0 163.3 Q104.65 164.0 103.9 163.95 92.85 163.25 84.7 160.55 74.85 157.25 71.35 151.55 67.25 144.8 68.8 134.95 70.35 125.25 76.55 117.95 L76.8 117.65 Q77.05 117.5 77.2 118.0\"/><path fill=\"#e50020\" d=\"M76.9 120.4 Q78.45 124.9 86.7 140.15 95.95 157.2 99.9 160.85 100.8 161.7 100.25 161.75 94.1 161.75 86.7 159.25 77.15 156.0 73.9 150.55 69.95 143.95 71.4 134.35 72.65 125.85 76.9 120.4\"/><path fill=\"#0d131a\" d=\"M175.95 163.35 Q169.95 168.5 155.4 168.95 142.3 169.35 131.7 166.15 130.55 165.8 131.7 165.55 L134.5 164.8 Q141.25 162.1 161.05 150.2 180.15 138.7 182.35 136.4 183.45 143.25 182.15 150.5 180.6 159.35 175.95 163.35\"/><path fill=\"#e50020\" d=\"M172.45 162.6 Q165.4 166.95 151.55 166.95 141.5 166.95 135.75 165.45 140.15 163.35 158.45 152.4 177.7 140.9 180.5 138.45 181.35 141.85 180.3 148.6 178.75 158.7 172.45 162.6\"/><path fill=\"#0d131a\" d=\"M181.85 164.55 Q182.1 162.75 182.95 163.85 183.75 164.95 183.2 167.55 181.6 175.15 163.0 178.4 144.1 181.65 116.6 178.75 101.9 177.2 86.55 170.9 71.25 164.6 66.2 158.05 64.75 156.15 65.4 155.85 66.1 155.55 68.35 157.7 74.35 163.45 87.2 168.6 101.15 174.25 115.85 176.0 142.95 179.2 161.45 176.2 180.65 173.05 181.85 164.55\"/><path fill=\"#0d131a\" d=\"M176.85 173.15 Q177.3 171.25 178.4 170.8 179.45 170.4 179.25 172.0 177.85 183.5 172.75 193.55 165.9 207.05 154.8 211.4 151.15 212.8 143.0 212.85 134.3 212.95 124.65 211.4 100.1 207.45 87.45 196.65 80.0 190.25 75.8 183.7 69.05 173.1 68.1 159.5 68.0 158.5 68.9 159.05 69.8 159.65 70.0 160.85 71.1 169.25 75.1 177.2 80.1 187.3 88.9 194.9 100.1 204.55 124.35 208.7 134.2 210.35 142.65 210.35 151.0 210.35 154.45 208.7 165.2 203.6 171.6 189.65 174.25 183.9 176.85 173.15\"/><path fill=\"#0d131a\" d=\"M90.2 147.5 Q90.75 149.5 90.65 151.4 90.55 153.9 90.05 155.6 89.55 157.35 88.9 157.35 88.3 157.35 87.95 155.25 87.65 153.5 87.65 151.35 87.65 149.25 88.0 147.45 88.45 145.45 89.05 145.45 89.7 145.45 90.2 147.5\"/><path fill=\"#0d131a\" d=\"M165.35 155.45 Q165.35 157.55 164.95 159.25 164.4 161.5 163.35 161.5 162.55 161.5 161.9 159.2 161.35 157.2 161.35 155.35 161.35 153.55 161.85 151.8 162.45 149.85 163.25 149.85 164.05 149.85 164.7 151.85 165.35 153.7 165.35 155.45\"/><path fill=\"#0d131a\" d=\"M83.15 191.1 Q82.5 187.15 81.85 179.6 L80.8 167.5 Q80.7 166.3 82.05 167.05 83.45 167.75 83.35 168.8 83.25 170.8 85.75 193.05 85.75 194.0 84.7 193.75 83.55 193.45 83.15 191.1\"/><path fill=\"#0d131a\" d=\"M100.75 188.25 L102.25 203.35 Q102.4 204.65 101.05 204.0 99.65 203.3 99.45 201.35 L97.95 187.6 Q97.15 179.2 97.3 173.7 97.35 172.35 98.65 172.8 100.0 173.25 99.9 174.6 99.75 177.0 100.75 188.25\"/><path fill=\"#0d131a\" d=\"M124.45 194.55 Q123.1 180.45 123.3 178.0 123.4 176.85 124.65 177.2 125.9 177.6 125.95 178.85 127.3 198.7 129.55 209.85 129.85 211.4 128.4 211.6 127.0 211.8 126.5 210.6 125.8 208.9 124.45 194.55\"/><path fill=\"#0d131a\" d=\"M152.0 193.6 Q150.15 180.65 150.1 178.85 150.05 177.5 151.5 177.55 152.9 177.6 153.0 178.65 153.35 182.55 155.15 193.7 L157.4 207.6 Q157.7 209.7 156.45 210.65 155.2 211.55 154.8 210.2 154.0 207.2 152.0 193.6\"/><path fill=\"#0d131a\" d=\"M228.05 173.0 Q238.45 173.7 247.15 179.6 257.3 186.45 260.95 198.1 261.25 199.0 260.2 199.5 259.15 200.0 258.7 198.7 255.8 190.2 247.45 183.6 238.6 176.65 226.65 174.3 224.95 173.95 225.65 173.45 226.35 172.9 228.05 173.0\"/><path fill=\"#0d131a\" d=\"M238.95 134.25 Q248.55 132.3 267.2 132.15 287.0 132.0 287.9 134.65 289.15 138.25 272.25 155.95 256.2 172.7 251.6 175.0 L250.05 174.9 Q249.75 174.15 251.35 172.45 L268.95 154.8 Q284.75 138.3 283.65 136.35 282.8 134.9 265.4 135.0 247.15 135.15 237.0 137.3 235.65 137.6 236.65 136.05 237.6 134.5 238.95 134.25\"/><path fill=\"#0d131a\" d=\"M192.9 165.8 Q193.0 162.3 191.8 160.55 190.8 159.05 188.9 159.0 185.35 159.0 187.95 158.05 191.4 156.8 193.2 158.9 195.1 161.1 194.15 165.95 193.75 168.0 193.3 168.1 192.85 168.2 192.9 165.8\"/><path fill=\"#0d131a\" d=\"M267.5 169.1 L257.55 168.4 Q256.65 168.4 257.3 167.15 257.95 165.85 259.5 165.75 264.25 165.4 270.4 166.65 276.5 167.85 277.0 169.3 277.45 170.65 267.4 180.3 257.55 189.8 255.8 190.3 255.2 190.5 254.5 189.7 253.8 188.95 254.5 188.35 259.35 184.35 265.95 177.4 272.15 170.85 272.0 170.3 271.8 169.7 267.5 169.1\"/><path fill=\"#0d131a\" d=\"M245.0 286.55 Q242.85 285.65 242.8 284.55 242.75 283.35 245.45 283.6 250.5 284.0 255.15 282.4 259.85 280.75 260.75 278.1 261.3 276.5 254.8 269.95 248.15 263.2 240.65 258.0 240.05 257.55 240.7 256.35 241.3 255.1 241.8 255.4 248.55 259.75 256.0 266.6 265.9 275.7 264.9 279.55 263.9 283.4 255.65 285.7 248.1 287.8 245.0 286.55\"/><path fill=\"#0d131a\" d=\"M8.1 195.55 Q9.7 194.55 9.85 195.1 10.0 195.6 9.05 196.9 L6.35 199.9 Q4.55 201.85 4.8 202.3 5.15 202.85 8.1 202.85 L13.4 202.45 Q13.7 202.4 13.8 203.35 13.9 204.25 13.35 204.4 L6.25 205.1 Q1.85 205.15 1.35 204.3 0.7 203.3 2.5 200.75 4.5 197.85 8.1 195.55\"/><path fill=\"#0d131a\" d=\"M53.65 201.55 Q54.7 201.65 55.2 203.6 55.7 205.5 54.25 205.3 41.2 203.4 25.9 208.1 L16.65 211.35 Q12.8 212.7 12.1 212.3 10.95 211.7 11.2 208.2 11.35 205.25 12.1 203.3 13.15 200.45 14.0 200.25 14.8 200.0 14.4 202.7 L13.9 206.35 Q13.6 208.65 14.0 209.0 14.3 209.3 17.4 208.0 22.3 205.9 25.45 204.85 39.35 200.15 53.65 201.55\"/><path fill=\"#0d131a\" d=\"M270.5 195.65 Q273.35 196.2 271.6 198.9 270.55 200.45 268.7 204.8 267.95 206.55 267.4 206.15 266.8 205.75 267.55 203.3 267.9 202.05 268.75 200.1 L269.45 198.2 265.7 198.1 Q261.55 198.65 258.8 200.35 258.25 200.65 257.75 199.9 257.25 199.1 257.85 198.65 260.35 196.8 264.05 195.9 L270.5 195.65\"/><path fill=\"#0d131a\" d=\"M278.55 206.25 Q278.65 207.8 271.7 211.3 269.7 212.25 269.55 211.65 269.45 211.1 271.25 209.7 L274.25 207.4 275.75 206.15 Q275.6 205.2 273.5 204.3 271.0 203.2 268.2 203.7 267.4 203.85 267.8 202.95 268.15 202.05 269.35 201.75 272.4 201.05 275.55 202.9 278.4 204.6 278.55 206.25\"/><path fill=\"#0d131a\" d=\"M270.75 210.25 L272.4 210.05 Q274.1 210.35 275.85 212.65 277.55 214.9 277.05 215.85 276.7 216.6 273.95 216.95 L271.0 217.25 Q254.1 224.75 240.0 225.85 224.5 227.0 213.75 220.3 209.85 217.9 210.7 217.45 211.55 217.05 215.65 219.0 227.15 224.5 244.45 222.15 254.65 220.8 270.75 215.65 L273.05 215.25 Q274.55 215.0 274.65 214.65 274.85 214.2 273.65 213.0 272.4 211.75 270.8 210.85 270.3 210.6 270.75 210.25\"/><path fill=\"#0d131a\" d=\"M250.95 222.95 Q248.75 236.9 246.75 244.75 243.7 256.65 239.2 263.75 237.6 266.3 237.25 264.55 236.9 262.9 237.7 260.95 241.1 252.45 243.3 244.25 245.6 235.45 247.35 223.75 247.5 222.65 249.3 222.25 251.15 221.85 250.95 222.95\"/><path fill=\"#0d131a\" d=\"M240.95 147.9 Q239.75 145.65 241.05 146.5 242.3 147.4 243.95 150.2 248.25 157.5 250.45 167.2 252.2 174.9 252.7 184.95 252.85 188.5 250.9 185.95 248.85 183.4 248.9 181.65 249.1 173.5 246.85 164.2 244.7 155.15 240.95 147.9\"/><path fill=\"#ffffff\" d=\"M88.95 148.45 Q89.05 147.05 89.2 147.05 89.4 147.05 89.4 150.75 89.4 153.7 89.15 153.7 88.8 153.7 88.8 150.9 L88.95 148.45\"/><path fill=\"#ffffff\" d=\"M163.7 154.65 Q163.7 157.9 163.35 157.7 162.95 157.5 162.95 154.7 162.95 151.05 163.3 151.05 163.7 151.05 163.7 154.65\"/><path fill=\"#0d131a\" d=\"M185.65 134.95 Q181.75 139.15 165.8 148.9 150.6 158.2 137.05 164.95 133.95 166.5 132.2 167.05 129.65 167.85 127.55 167.45 125.2 167.05 124.65 165.6 124.45 165.1 124.6 164.75 L125.0 164.7 Q126.25 165.9 129.1 165.55 131.85 165.15 135.4 163.35 145.1 158.4 158.75 150.25 174.5 140.85 183.35 134.25 186.45 131.95 187.15 132.3 187.8 132.7 185.65 134.95\"/><path fill=\"#0d131a\" d=\"M76.7 114.3 Q79.35 125.5 88.45 140.8 96.8 154.8 104.75 162.95 106.65 164.85 105.9 165.4 105.1 165.95 102.2 163.1 93.25 154.25 84.95 139.4 76.6 124.65 75.3 115.35 74.9 112.7 75.5 112.2 76.05 111.7 76.7 114.3\"/></g></svg>",
      "text/plain": [
       "<IPython.core.display.SVG object>"
      ]
     },
     "metadata": {},
     "output_type": "display_data"
    }
   ],
   "source": [
    "gengar = Pokemon(\"gengar\")\n",
    "\n",
    "print(gengar.image)\n",
    "gengar.display()"
   ]
  },
  {
   "cell_type": "markdown",
   "metadata": {},
   "source": [
    "## Exercise 2:"
   ]
  },
  {
   "cell_type": "markdown",
   "metadata": {},
   "source": [
    "### Create a Method that evolves your Pokemon\n",
    "If your pokemon can't evolve any further print a message that says \"\\<name of pokemon> can't evolve.\""
   ]
  },
  {
   "cell_type": "code",
   "execution_count": 4,
   "metadata": {},
   "outputs": [],
   "source": [
    "from time import sleep\n",
    "\n",
    "class Evolver():\n",
    "        \n",
    "    def evolve(self):\n",
    "        r = requests.get(f\"https://pokeapi.co/api/v2/pokemon-species/{self.name}\")\n",
    "        if r.status_code == 200:\n",
    "            pokemon_species = r.json()\n",
    "        else:\n",
    "            print(f'Ran into an issue {r.status_code}')\n",
    "            return\n",
    "        \n",
    "        r = requests.get(pokemon_species['evolution_chain']['url'])\n",
    "        if r.status_code == 200:\n",
    "            ev_chain = r.json()\n",
    "            ev_chain = ev_chain['chain']\n",
    "        else:\n",
    "            print(f\"Ran into an issue {r.status_code}\")\n",
    "            return\n",
    "        \n",
    "\n",
    "        base_name = ev_chain[\"species\"][\"name\"]\n",
    "\n",
    "        evolution = ev_chain['evolves_to'][0]\n",
    "        evolution_name = evolution['species']['name']\n",
    "        \n",
    "        if base_name == self.name:\n",
    "            pass\n",
    "            \n",
    "    \n",
    "        elif evolution_name == self.name:\n",
    "            evolution_name = evolution['evolves_to'][0]['species']['name']\n",
    "      \n",
    "        else:\n",
    "            print(f\"You can't evolve your {self.name} anymore. \")\n",
    "            return\n",
    "        \n",
    "        print('.......')\n",
    "        sleep(1)\n",
    "        print(f\"Your {self.name} is evolving!?!?\")\n",
    "        self.display()\n",
    "        sleep(1)\n",
    "        print('................')\n",
    "        self.name = evolution_name\n",
    "        self.poke_api_call()\n",
    "        self.display()\n",
    "\n"
   ]
  },
  {
   "cell_type": "code",
   "execution_count": 118,
   "metadata": {},
   "outputs": [
    {
     "name": "stdout",
     "output_type": "stream",
     "text": [
      "You've got a new gastly!\n"
     ]
    }
   ],
   "source": [
    "gengar = Pokemon(\"gastly\")\n"
   ]
  },
  {
   "cell_type": "code",
   "execution_count": 120,
   "metadata": {
    "scrolled": true
   },
   "outputs": [
    {
     "name": "stdout",
     "output_type": "stream",
     "text": [
      ".......\n",
      "Your haunter is evolving!?!?\n"
     ]
    },
    {
     "data": {
      "image/svg+xml": "<svg xmlns=\"http://www.w3.org/2000/svg\" version=\"1.1\" width=\"436px\" height=\"352px\" viewBox=\"-0.45 -0.55 436.4 352.35\"><g><path fill=\"#664497\" d=\"M367.5 116.7 Q373.65 118.4 403.75 119.05 L432.35 120.3 Q432.85 121.15 407.25 143.6 377.3 169.9 372.0 175.15 L395.85 179.35 Q414.6 182.4 414.75 183.45 414.95 184.65 399.6 194.95 384.65 205.0 376.45 209.4 L376.95 211.5 344.3 296.0 347.45 303.1 Q350.7 310.1 353.85 314.8 354.95 316.45 354.95 317.6 354.9 318.95 353.0 318.05 L342.45 313.05 336.0 309.75 343.7 321.1 Q350.65 331.2 356.35 338.9 361.2 345.45 360.5 346.3 359.75 347.2 352.35 342.25 323.2 322.65 317.2 320.05 L320.55 328.2 Q322.3 332.65 323.25 334.1 321.5 332.4 314.5 327.95 306.35 322.85 299.4 319.55 L272.5 306.8 Q254.75 298.2 241.35 290.5 203.35 268.75 184.45 245.75 164.0 227.55 128.1 200.25 99.75 178.65 100.0 177.7 100.35 176.45 113.9 174.5 129.05 172.35 132.75 170.55 83.55 101.65 84.8 99.3 85.55 97.95 107.8 103.45 132.95 109.6 138.25 109.8 127.55 73.1 120.8 49.25 108.15 4.2 109.8 3.05 111.85 1.7 144.85 22.75 175.8 42.45 201.8 61.1 L201.6 61.3 Q222.35 50.7 251.35 50.3 285.05 49.8 311.05 64.75 341.45 55.75 381.15 45.2 427.0 33.0 428.05 34.35 429.15 35.8 398.45 76.4 L367.5 116.7\"/><path fill=\"#593984\" d=\"M336.35 286.55 Q341.15 291.5 344.3 296.0 L347.65 303.55 Q351.1 310.95 354.45 315.75 355.25 316.9 354.75 317.4 354.2 317.95 352.35 317.15 L339.65 311.4 Q337.95 310.65 337.4 311.2 336.85 311.7 337.8 313.05 347.6 327.3 359.0 342.45 361.05 345.25 360.45 346.2 359.75 347.2 356.45 345.0 L337.15 332.05 Q324.95 323.9 319.5 320.85 L317.95 320.75 Q317.3 321.15 317.7 321.9 L321.75 329.5 Q323.7 333.2 323.25 333.4 322.4 333.7 316.3 329.3 308.25 323.5 302.15 320.6 268.75 306.1 248.25 295.4 210.75 275.8 193.2 255.75 225.25 275.9 257.7 280.5 289.05 284.9 318.15 274.55 326.65 276.65 336.35 286.55\"/><path fill=\"#664497\" d=\"M137.65 226.85 Q141.05 226.85 145.6 235.3 150.55 244.5 149.65 253.05 149.45 255.2 143.7 260.25 137.75 265.5 134.6 265.5 127.75 265.5 118.45 262.35 L100.7 255.6 Q97.05 254.25 92.1 254.75 L83.0 256.1 Q79.1 259.8 74.0 261.65 69.35 263.3 66.6 262.5 71.45 245.3 73.6 240.6 74.95 237.65 83.7 232.5 L97.65 224.7 Q98.5 224.2 107.4 226.4 117.4 228.85 123.45 228.15 L137.65 226.85\"/><path fill=\"#ffffff\" d=\"M298.65 103.85 Q300.35 114.8 300.25 126.6 300.15 138.25 298.35 146.15 296.75 153.45 294.0 156.7 290.85 160.4 283.65 162.4 271.7 165.75 255.55 166.7 240.9 167.55 233.8 166.1 234.5 157.5 256.35 136.6 278.05 115.8 298.65 103.85\"/><path fill=\"#ffffff\" d=\"M162.0 104.9 Q168.05 109.45 182.5 135.05 196.1 159.2 196.7 163.7 186.95 164.05 176.95 160.4 165.75 156.4 163.0 150.05 159.85 142.9 159.55 128.25 159.25 113.7 162.0 104.9\"/><path fill=\"#ed8599\" d=\"M177.95 185.6 Q194.75 189.3 195.7 189.2 196.95 193.7 200.8 199.7 204.25 205.15 204.95 205.05 205.4 205.0 207.2 198.7 L209.25 191.45 227.15 191.65 231.85 200.7 Q235.5 207.95 236.15 207.95 237.0 207.95 239.5 201.4 242.05 194.75 242.4 191.15 L255.7 189.4 271.7 186.95 Q278.15 199.35 278.85 199.45 279.45 199.5 281.7 194.25 284.05 188.6 284.8 184.3 L295.75 180.85 Q307.35 176.95 310.65 175.0 293.25 211.7 259.75 222.55 L259.7 222.7 250.75 214.55 245.8 225.75 236.5 214.05 229.4 226.55 220.4 212.9 214.15 224.6 205.75 211.3 203.9 215.3 Q202.05 219.55 201.75 220.75 L194.1 209.4 192.85 212.0 191.45 215.25 189.95 216.65 Q179.6 210.25 171.05 199.0 164.7 190.65 157.6 176.95 159.85 178.4 168.0 182.0 168.75 185.1 172.1 189.9 175.15 194.25 175.65 194.15 175.95 194.1 176.65 190.8 L177.95 185.6\"/><path fill=\"#664497\" d=\"M65.0 225.8 Q65.4 224.95 65.35 222.75 65.3 220.65 64.95 220.25 64.35 219.55 59.75 224.45 L54.45 230.3 Q56.9 230.1 60.8 228.4 64.6 226.75 65.0 225.8 M42.25 195.1 Q54.05 184.3 56.45 184.3 58.85 184.3 72.05 187.85 85.45 191.4 86.05 192.35 87.8 194.9 100.05 208.9 114.2 225.15 119.15 229.0 L121.85 263.25 Q117.95 263.4 110.45 269.55 102.45 276.15 99.6 276.8 L92.4 276.3 Q87.1 275.0 85.6 275.05 84.3 275.1 78.65 277.2 73.3 279.25 68.65 279.05 63.8 278.85 57.8 275.55 L47.35 268.8 Q40.95 264.35 37.1 262.8 31.5 260.45 26.8 261.65 L26.75 270.75 Q27.45 282.05 31.3 292.9 18.45 285.75 9.7 272.5 3.05 262.45 2.3 256.15 1.9 252.7 8.2 243.0 13.0 235.65 15.2 233.3 15.75 232.7 20.05 232.5 L30.2 232.3 30.95 232.5 Q27.15 218.1 29.35 209.65 30.3 206.05 42.25 195.1\"/><path fill=\"#dbdcdc\" d=\"M236.95 166.55 L233.95 166.1 Q234.85 157.5 257.4 136.0 279.55 114.9 298.65 103.85 L299.55 111.1 Q283.45 119.75 266.1 134.2 245.1 151.7 236.95 166.55\"/><path fill=\"#dbdcdc\" d=\"M162.0 104.9 Q168.05 109.45 182.5 135.05 196.1 159.2 196.7 163.7 L193.9 163.7 Q189.95 154.05 179.25 139.15 168.95 124.75 159.8 115.65 L160.8 110.0 162.0 104.9\"/><path fill=\"#664497\" d=\"M406.85 281.4 Q412.1 286.6 419.45 291.65 420.55 295.6 421.05 306.75 421.55 318.6 420.35 322.2 419.05 326.05 410.0 330.65 399.9 335.75 388.2 337.1 L384.15 337.2 Q383.45 336.7 385.7 334.1 389.5 329.75 391.85 323.15 394.45 315.8 393.7 309.35 385.15 299.55 372.8 302.5 363.2 304.8 354.15 302.65 345.1 300.55 344.85 295.85 L333.5 294.95 Q325.75 293.2 322.15 287.75 319.8 289.45 315.15 290.9 311.0 292.25 310.35 293.0 305.25 298.85 303.2 303.25 299.8 310.5 300.2 320.2 300.4 324.0 299.2 323.8 298.1 323.65 296.0 320.1 289.35 308.95 284.05 294.25 278.35 278.3 279.85 272.8 281.1 268.25 289.35 261.25 L300.9 251.75 Q302.9 249.75 307.3 250.1 L313.8 250.9 Q317.2 250.9 332.35 244.45 348.85 237.4 352.9 232.85 355.25 230.15 359.8 221.85 364.2 213.8 365.35 212.65 367.35 210.65 377.5 210.25 387.85 209.8 391.55 211.8 393.85 213.05 397.45 217.6 401.5 222.65 404.45 228.65 412.5 244.7 407.45 255.2 L402.5 262.65 Q398.85 267.7 398.9 267.85 398.85 273.45 406.85 281.4\"/><path fill=\"#593984\" d=\"M342.95 296.1 Q339.1 296.95 332.8 294.9 325.25 292.45 322.95 287.6 327.15 285.35 327.35 276.2 337.15 276.95 349.05 267.65 360.95 258.3 366.55 245.5 372.5 252.75 373.65 263.85 374.7 274.1 371.5 286.15 373.85 285.9 378.15 288.8 382.4 291.65 386.7 296.4 397.25 308.05 398.45 318.8 398.9 322.95 404.95 324.6 411.25 326.35 419.55 324.25 409.0 333.2 396.55 336.0 L388.0 337.25 382.4 338.0 Q389.7 330.3 393.0 318.9 394.1 315.15 394.5 311.85 394.85 309.0 394.55 309.2 390.9 304.45 384.9 302.85 L375.95 302.45 Q366.95 303.8 360.75 303.5 349.25 303.0 342.95 296.1\"/><path fill=\"#593984\" d=\"M372.45 254.45 L374.3 258.55 Q376.75 263.2 380.1 265.9 390.75 274.55 405.75 260.5 400.3 267.0 393.25 273.6 379.2 286.8 371.15 287.4 372.7 283.15 373.6 276.95 375.45 264.45 372.45 254.45\"/><path fill=\"#593984\" d=\"M299.3 295.5 Q305.6 295.55 310.6 292.45 305.1 296.15 301.95 309.75 299.2 321.5 300.1 326.8 294.1 321.35 286.95 303.55 280.7 288.0 278.95 278.15 286.15 295.35 299.3 295.5\"/><path fill=\"#593984\" d=\"M82.0 256.15 L77.3 260.55 Q71.6 264.6 66.7 262.8 L72.4 242.25 72.15 244.15 Q72.1 246.3 72.9 247.75 75.35 252.3 85.4 247.75 90.55 245.4 101.6 246.85 108.1 247.7 122.0 250.5 134.1 252.65 140.05 251.75 148.05 250.5 149.3 243.65 L150.2 248.25 Q150.6 253.4 148.05 256.05 L141.8 262.2 Q138.25 265.15 135.7 265.6 132.55 266.1 122.15 263.45 111.25 260.7 106.5 257.85 101.55 254.85 96.2 254.55 91.05 254.2 82.0 256.15\"/><path fill=\"#593984\" d=\"M47.5 247.2 Q50.45 233.75 54.95 230.25 58.35 230.05 61.65 228.1 66.45 225.3 65.4 220.7 66.25 221.45 70.5 223.2 L64.65 219.75 Q63.15 220.25 58.2 225.35 52.75 230.95 51.1 234.55 49.2 238.65 47.05 248.6 44.85 258.75 45.45 261.2 45.15 257.9 47.5 247.2 M88.55 226.75 Q89.85 227.75 90.4 228.95 L89.2 229.4 88.6 229.65 Q85.2 231.2 80.55 234.3 75.65 237.55 74.05 239.5 72.55 241.35 70.6 248.85 L66.7 262.8 72.55 261.65 Q78.4 259.95 82.0 256.15 L88.55 255.2 97.05 254.55 Q99.9 254.55 106.85 257.45 112.45 259.75 119.05 263.25 L110.5 270.3 Q102.6 276.55 100.1 276.85 L92.3 276.5 86.75 275.1 Q84.85 274.7 79.05 277.1 72.7 279.75 70.0 279.85 64.0 280.15 53.15 273.0 L45.0 267.35 Q40.55 264.3 38.35 263.3 L38.35 263.35 37.85 263.1 36.9 262.8 36.9 262.7 Q33.4 261.25 29.75 261.3 L26.8 261.65 Q25.0 266.4 27.85 279.85 29.3 286.6 31.05 292.35 16.85 285.4 7.5 269.5 4.6 264.55 2.5 259.3 L1.0 255.05 Q8.4 263.1 18.3 259.0 23.35 256.9 28.2 252.8 30.65 252.1 38.7 254.15 L39.2 253.7 Q29.85 238.35 27.8 210.2 30.65 221.55 39.1 223.25 45.85 224.6 51.45 220.3 L59.85 213.6 Q63.85 210.6 65.5 210.85 72.85 210.5 80.2 216.65 85.75 221.3 88.55 226.75\"/><path fill=\"#593984\" d=\"M167.85 181.3 Q164.4 180.1 160.85 178.5 153.7 175.4 153.05 173.6 L163.95 177.25 Q178.2 181.3 194.95 183.35 248.55 189.95 307.25 174.1 310.15 173.3 313.4 172.8 L315.65 172.7 Q311.4 174.7 305.4 177.1 293.4 181.9 284.75 183.8 L284.15 188.2 273.8 191.25 271.7 186.95 242.45 190.65 241.25 195.5 229.4 195.8 227.15 191.65 209.25 191.45 208.1 195.5 197.15 194.3 195.6 189.7 178.2 185.65 177.45 189.5 168.85 185.15 167.85 181.3\"/><path fill=\"#ce7486\" d=\"M240.5 198.7 L239.5 201.4 Q237.65 206.3 236.7 207.55 237.4 206.55 238.5 203.2 239.75 199.4 240.5 198.7 242.15 193.95 242.4 191.15 L255.7 189.4 271.7 186.95 Q278.15 199.35 278.85 199.45 279.45 199.5 281.7 194.25 284.05 188.6 284.8 184.3 L295.75 180.85 Q307.35 176.95 310.65 175.0 305.55 185.7 299.15 194.55 291.5 205.1 283.25 211.0 277.0 205.9 265.3 202.6 254.5 199.5 240.85 198.5 240.7 198.5 240.5 198.7 M177.95 185.6 Q194.75 189.3 195.7 189.2 196.95 193.7 200.8 199.7 204.25 205.15 204.95 205.05 205.4 205.0 207.2 198.7 L209.25 191.45 227.15 191.65 231.85 200.7 Q235.5 207.95 236.15 207.95 234.9 207.9 232.9 203.9 230.45 198.95 229.65 198.05 217.9 197.95 207.85 199.45 207.25 199.55 206.35 202.6 205.4 205.65 204.85 205.7 204.15 205.85 202.7 203.2 201.2 200.6 200.55 200.7 186.0 203.85 180.4 209.5 173.4 203.05 166.65 192.8 162.35 186.15 157.6 176.95 159.85 178.4 168.0 182.0 168.75 185.1 172.1 189.9 175.15 194.25 175.65 194.15 175.95 194.1 176.65 190.8 L177.95 185.6\"/><path fill=\"#593984\" d=\"M413.0 46.65 Q420.45 41.35 421.85 42.9 423.6 44.9 402.0 72.5 374.1 107.3 362.4 122.6 370.95 89.65 395.8 62.35 404.8 52.45 413.0 46.65\"/><path fill=\"#593984\" d=\"M402.9 148.1 Q376.7 170.95 371.05 176.65 373.8 155.7 399.25 138.45 408.2 132.4 416.7 129.05 424.5 126.0 424.75 127.6 424.95 128.8 402.9 148.1\"/><path fill=\"#593984\" d=\"M396.3 189.7 Q404.75 186.5 411.25 186.05 412.3 187.25 394.65 198.8 L376.75 210.1 369.3 210.25 Q379.3 196.2 396.3 189.7\"/><path fill=\"#593984\" d=\"M118.6 23.8 Q126.25 36.65 132.55 51.65 150.8 95.35 139.85 114.6 132.0 90.2 124.4 65.35 109.25 15.7 110.8 13.5 111.7 12.2 118.6 23.8\"/><path fill=\"#593984\" d=\"M87.7 105.85 Q88.45 105.2 97.0 111.7 106.8 119.2 115.25 128.05 140.6 154.55 134.6 173.05 122.25 156.8 110.25 140.25 86.15 107.15 87.7 105.85\"/><path fill=\"#593984\" d=\"M103.6 182.4 Q129.55 189.6 146.2 201.95 165.3 216.1 183.55 244.6 L103.6 182.4\"/><path fill=\"#0d131a\" d=\"M204.35 59.5 Q204.7 59.75 202.75 60.7 200.8 61.65 200.6 61.5 180.9 47.4 156.4 31.6 132.8 16.4 119.8 9.2 112.8 5.35 112.1 5.9 111.15 6.55 113.25 15.6 117.05 32.15 128.8 72.5 L140.5 112.1 Q141.6 116.2 140.65 116.95 139.65 117.75 137.95 113.05 135.55 106.6 125.2 72.45 113.8 34.75 110.0 19.2 107.7 9.6 107.35 5.55 107.0 1.05 108.85 0.2 110.55 -0.55 115.2 1.75 L127.3 8.8 Q139.15 16.05 165.2 33.2 192.25 50.95 204.35 59.5\"/><path fill=\"#0d131a\" d=\"M81.7 97.6 Q82.85 95.6 91.8 97.6 L114.85 103.45 Q135.5 108.65 138.75 108.75 139.15 108.75 139.5 110.15 139.8 111.55 139.35 111.5 134.15 111.2 118.1 107.5 L93.5 101.5 Q88.25 100.25 87.5 101.05 86.85 101.8 89.2 105.65 93.05 111.85 105.75 129.95 L133.85 170.25 Q137.0 174.7 136.1 175.65 135.15 176.65 132.1 172.35 97.1 125.55 85.05 106.25 80.75 99.3 81.7 97.6\"/><path fill=\"#0d131a\" d=\"M121.25 174.7 L107.05 176.95 Q102.45 177.6 102.35 178.35 102.3 179.05 106.2 182.15 L138.55 206.85 Q170.75 231.7 183.95 243.85 L186.9 249.4 Q173.7 237.7 139.9 211.9 L102.8 183.95 Q96.15 178.9 96.05 177.35 95.85 175.25 104.3 174.1 128.55 170.75 131.75 169.2 132.1 169.0 132.85 170.15 133.65 171.3 133.35 171.4 130.1 173.05 121.25 174.7\"/><path fill=\"#0d131a\" d=\"M313.15 63.95 Q313.55 64.2 312.15 65.1 310.75 66.0 310.35 65.75 279.75 48.05 241.95 51.55 226.2 53.0 212.65 58.05 199.75 62.9 192.3 69.65 188.75 72.8 187.95 72.1 187.1 71.35 190.45 68.0 198.15 60.3 211.3 55.0 225.0 49.5 241.3 48.05 279.7 44.6 313.15 63.95\"/><path fill=\"#0d131a\" d=\"M419.75 32.55 Q429.65 30.35 430.7 31.5 431.9 32.8 426.3 41.5 420.1 51.15 395.9 82.2 377.5 105.8 364.95 121.2 361.9 125.0 360.8 124.4 359.65 123.85 362.45 119.95 367.8 112.45 392.05 81.3 414.95 51.85 421.7 42.0 425.4 36.55 424.9 36.0 424.45 35.5 417.9 37.0 401.1 40.75 359.0 53.1 327.35 62.4 303.65 69.8 299.55 71.05 299.3 69.85 299.1 68.6 303.1 66.95 317.6 60.95 361.3 48.25 401.75 36.55 419.75 32.55\"/><path fill=\"#0d131a\" d=\"M367.25 117.7 Q366.9 117.6 367.15 116.6 367.4 115.6 367.8 115.7 373.7 117.4 394.0 117.3 L422.5 117.1 Q432.85 117.4 434.1 118.75 435.95 120.85 427.35 128.75 L398.35 153.65 Q372.0 176.3 370.1 178.85 367.25 182.55 367.1 180.8 366.9 179.05 369.6 175.95 374.45 170.35 396.65 150.9 L423.7 127.45 Q429.2 122.6 428.95 121.55 428.7 120.7 422.85 120.5 L394.05 120.3 Q373.3 119.85 367.25 117.7\"/><path fill=\"#0d131a\" d=\"M387.8 179.15 L371.35 176.05 372.8 173.95 403.35 178.7 Q415.5 180.65 416.2 183.0 416.95 185.7 405.7 193.3 399.15 197.75 391.8 202.25 L377.05 210.6 372.85 209.95 Q375.1 209.5 387.85 201.4 400.15 193.6 408.35 187.6 411.6 185.25 411.5 184.3 411.45 183.3 407.85 182.65 L387.8 179.15\"/><path fill=\"#0d131a\" d=\"M175.95 237.05 Q173.8 234.1 174.35 233.0 174.85 231.95 177.1 234.8 198.5 261.85 228.9 281.5 246.8 293.1 280.0 308.45 L292.8 314.45 293.8 317.75 Q289.35 315.6 279.15 311.4 246.6 297.95 227.4 285.6 196.6 265.85 175.95 237.05\"/><path fill=\"#0d131a\" d=\"M356.95 320.1 Q356.5 321.05 350.9 318.55 348.35 317.4 343.4 314.7 L338.25 311.9 Q341.3 316.35 357.05 337.2 365.1 347.85 364.2 349.75 363.2 351.8 351.9 344.25 L333.45 331.45 Q321.5 323.1 318.55 321.5 L321.3 327.2 Q324.55 333.85 323.65 334.65 322.65 335.55 316.05 330.9 306.5 324.3 299.65 320.8 L300.25 318.15 Q310.7 323.4 317.9 329.05 319.9 330.6 320.25 330.35 320.55 330.1 319.7 328.15 L317.05 322.15 Q315.65 319.05 316.15 318.6 316.55 318.2 319.05 319.5 325.1 322.65 348.9 338.65 L356.3 343.65 Q358.8 345.35 359.1 345.05 359.4 344.75 357.65 342.4 348.3 329.95 336.85 313.2 334.7 310.05 335.1 309.05 335.5 308.0 338.4 309.35 L343.25 311.95 Q347.65 314.4 350.15 315.45 352.6 316.5 352.85 316.05 353.1 315.65 351.6 313.1 344.15 301.05 342.45 296.25 L345.95 297.2 Q350.0 306.55 353.15 311.75 357.5 319.05 356.95 320.1\"/><path fill=\"#0d131a\" d=\"M406.3 227.9 Q414.4 244.95 409.15 255.8 405.3 263.85 395.5 273.6 384.95 284.0 376.3 287.3 370.55 289.45 369.9 288.75 369.4 288.2 371.1 282.45 374.1 272.65 372.45 262.0 370.85 251.9 366.1 246.7 363.35 243.65 364.9 243.85 366.5 244.0 369.0 247.1 380.45 261.1 372.85 285.2 381.05 283.3 392.15 272.85 402.55 263.05 406.5 254.75 408.3 251.0 408.3 246.4 408.3 236.75 401.45 225.15 395.55 215.1 391.05 212.7 387.5 210.8 377.4 211.3 367.7 211.75 366.05 213.4 364.95 214.5 361.3 221.3 L357.5 228.0 Q355.25 231.65 353.65 233.55 348.2 239.75 333.45 246.1 319.85 251.95 313.8 251.95 L310.3 251.55 305.55 251.1 Q302.95 251.15 301.65 252.5 300.25 253.85 295.5 257.65 289.4 262.45 286.6 265.15 281.75 269.8 280.85 273.1 280.6 273.9 280.6 275.45 280.6 282.0 285.55 295.4 290.25 308.15 295.95 318.0 297.8 321.15 298.3 321.45 299.15 321.95 299.15 318.15 299.15 308.75 301.45 302.9 303.05 298.85 307.15 294.1 308.45 292.65 309.8 291.9 311.15 291.1 314.3 290.1 319.6 288.45 322.5 285.35 325.3 282.35 326.05 277.7 326.65 274.0 327.25 273.65 327.9 273.2 328.05 277.7 328.2 283.7 324.5 287.4 321.6 290.35 316.0 292.1 L313.1 292.9 Q311.4 293.35 311.15 293.7 306.75 298.75 304.6 304.1 301.75 311.25 301.35 321.9 301.1 328.2 300.45 328.4 299.65 328.65 295.7 323.0 288.95 313.45 282.85 297.1 276.35 279.9 277.8 273.35 278.95 268.1 288.2 259.8 292.95 255.55 299.05 250.3 300.6 248.35 304.45 248.55 L310.6 249.5 313.8 249.85 Q316.85 249.85 331.5 243.7 347.6 236.9 351.55 232.4 354.35 229.15 358.9 220.85 363.35 212.8 364.7 211.4 367.05 209.05 378.0 208.4 389.0 207.7 392.8 209.8 395.3 211.15 399.1 216.1 403.2 221.45 406.3 227.9\"/><path fill=\"#0d131a\" d=\"M338.55 294.8 Q348.55 295.65 355.9 292.5 359.6 290.9 359.2 292.0 358.8 293.05 355.1 294.65 346.05 298.5 336.9 297.5 326.1 296.35 321.9 288.3 321.7 287.95 322.6 287.45 L323.7 287.35 Q327.1 293.8 338.55 294.8\"/><path fill=\"#0d131a\" d=\"M344.9 296.95 Q345.75 296.35 346.0 296.7 348.4 300.3 357.35 301.8 365.5 303.15 371.15 301.85 381.6 299.5 389.15 303.1 396.1 306.4 398.1 313.35 399.1 316.65 398.55 317.3 398.05 317.95 397.0 315.3 394.55 308.75 387.05 305.15 379.2 301.4 371.55 303.9 365.45 305.9 356.65 304.2 347.3 302.4 344.3 297.85 344.05 297.5 344.9 296.95\"/><path fill=\"#0d131a\" d=\"M405.1 278.25 Q407.95 281.55 414.25 285.8 L418.85 289.1 Q421.05 290.85 421.4 292.15 422.45 296.1 422.5 307.75 422.55 319.8 421.25 323.7 420.05 327.35 410.7 332.25 399.55 338.15 386.35 339.4 381.35 339.9 381.0 338.85 380.7 337.85 384.05 333.6 388.6 327.95 390.75 323.1 394.25 315.4 392.9 308.1 392.85 307.7 393.7 308.2 394.6 308.7 394.7 309.1 395.95 314.3 393.6 321.6 391.35 328.5 387.25 333.5 385.4 335.75 385.65 336.1 L388.75 336.05 Q399.85 334.5 409.6 329.55 418.25 325.15 419.35 321.9 420.15 319.45 420.15 312.95 420.15 307.35 419.6 301.2 419.1 295.15 418.45 292.85 418.15 291.6 413.1 288.2 406.7 283.85 403.75 280.6 398.6 274.95 398.25 268.2 398.25 267.95 399.3 266.95 400.35 265.95 400.35 266.35 400.35 272.8 405.1 278.25\"/><path fill=\"#0d131a\" d=\"M123.35 227.1 L129.3 226.3 138.0 225.45 Q139.15 225.45 140.8 226.55 L143.25 228.65 Q146.65 232.45 149.05 238.95 151.85 246.7 151.15 253.55 150.85 256.15 144.75 261.5 138.4 267.05 134.85 267.05 129.15 267.05 121.85 264.75 L108.2 259.6 100.35 256.6 Q97.45 255.55 93.95 255.65 L87.2 256.5 83.45 257.05 Q78.9 261.3 75.35 263.0 71.85 264.65 67.95 264.45 64.6 264.25 64.4 263.45 L65.25 260.85 Q71.5 242.75 72.65 240.15 74.7 235.6 90.7 226.8 L96.7 222.5 99.7 222.6 105.05 224.05 113.8 226.35 Q119.4 227.6 123.35 227.1 M140.9 230.2 Q138.7 227.85 137.65 227.85 L124.55 229.05 123.55 229.15 113.55 228.75 Q110.3 228.25 104.55 226.75 98.85 225.3 98.2 225.6 95.2 227.3 92.15 228.95 L81.35 235.15 Q75.55 238.85 74.55 241.0 72.6 245.4 67.95 261.6 70.2 261.8 73.35 260.75 76.8 259.6 79.85 257.35 L77.5 257.5 Q74.5 257.5 76.6 256.55 78.7 255.6 82.55 255.1 L86.85 254.45 93.95 253.25 Q97.95 252.85 101.05 253.95 L108.95 257.7 Q118.1 261.25 122.2 262.45 129.1 264.45 134.6 264.45 137.35 264.45 143.05 259.4 148.45 254.6 148.65 252.95 149.25 247.15 146.75 240.3 144.45 234.2 140.9 230.2\"/><path fill=\"#0d131a\" d=\"M40.5 194.25 Q52.65 182.95 56.45 182.6 60.35 182.2 72.45 185.7 84.7 189.25 87.65 191.8 L101.5 208.5 Q114.05 223.8 120.7 228.3 L119.05 228.55 Q116.95 228.5 116.45 228.0 110.55 222.55 97.95 208.05 87.45 195.95 85.3 193.05 83.95 192.1 71.3 188.75 58.6 185.35 56.45 185.35 54.05 185.65 42.75 196.05 31.2 206.7 30.35 209.9 29.65 212.65 29.65 216.5 29.65 225.35 33.35 237.05 36.85 247.95 41.5 255.4 43.8 259.05 44.2 258.95 44.45 258.9 44.9 255.05 45.95 246.55 47.95 239.45 49.65 233.35 51.05 231.65 53.3 228.85 57.7 224.2 63.45 218.1 64.5 218.3 65.4 218.45 68.45 220.0 70.3 220.95 74.8 223.65 78.75 225.75 80.25 225.25 L83.05 225.15 Q83.05 226.0 80.25 226.9 77.9 227.7 72.45 225.35 69.95 224.25 64.4 221.2 55.5 230.1 53.8 232.2 52.25 234.15 50.05 241.2 47.25 250.1 46.45 259.4 46.15 262.75 45.45 262.9 44.85 263.0 42.6 260.45 35.75 252.45 30.55 236.5 24.9 219.15 27.45 209.2 28.4 205.45 40.5 194.25\"/><path fill=\"#0d131a\" d=\"M27.85 231.3 L29.8 231.25 30.75 233.3 27.9 233.35 15.9 234.0 Q13.3 237.0 9.0 243.65 3.3 252.45 3.3 255.7 3.3 259.8 8.7 269.1 16.4 282.5 29.55 290.65 25.9 280.8 25.15 272.85 24.35 265.3 26.1 258.4 26.9 255.15 27.9 254.75 28.85 254.35 28.45 257.6 27.65 264.15 28.05 271.25 28.7 282.45 32.25 292.55 32.75 293.85 32.1 294.2 31.4 294.6 29.5 293.55 16.8 286.45 7.9 273.4 0.8 263.05 0.0 256.25 -0.45 252.15 5.9 242.25 11.75 233.2 14.05 231.9 15.45 231.15 18.3 231.15 L27.85 231.3\"/><path fill=\"#0d131a\" d=\"M64.15 220.45 L65.2 220.55 Q66.4 221.1 66.4 221.75 66.4 225.15 65.7 226.2 63.05 230.25 52.65 231.95 53.4 230.75 54.6 229.5 62.0 228.0 64.0 225.05 65.25 223.1 64.15 220.45\"/><path fill=\"#0d131a\" d=\"M119.25 262.7 Q119.85 262.5 121.1 263.35 122.35 264.25 121.85 264.3 118.9 264.4 111.5 270.85 103.75 277.65 100.35 278.35 L95.55 278.2 90.9 277.0 Q87.3 276.1 85.6 276.2 83.85 276.3 80.7 277.55 L75.1 279.7 Q71.2 280.95 67.95 280.8 63.25 280.6 57.9 277.65 L48.4 271.4 Q40.05 265.7 37.6 264.45 31.65 261.45 27.05 262.65 26.65 262.75 26.35 261.75 26.1 260.75 26.55 260.65 31.8 259.3 38.25 262.15 42.15 263.9 49.55 269.05 55.8 273.3 59.0 275.0 64.35 277.8 68.7 278.0 L74.95 277.35 79.95 275.6 Q83.6 274.15 85.7 274.1 87.45 274.0 91.4 274.95 L95.5 275.85 99.4 275.75 Q101.15 275.35 103.75 273.55 L108.65 269.7 Q112.2 266.75 113.95 265.55 116.9 263.45 119.25 262.7\"/><path fill=\"#0d131a\" d=\"M235.2 164.75 Q232.55 169.5 231.5 168.85 230.4 168.25 232.9 163.55 240.9 148.4 259.5 131.0 278.6 113.2 299.45 101.85 303.3 99.75 305.05 100.1 306.85 100.4 303.0 102.5 283.15 113.3 262.4 132.75 242.95 151.0 235.2 164.75\"/><path fill=\"#0d131a\" d=\"M233.4 166.95 Q232.95 166.9 233.6 166.0 234.25 165.1 234.7 165.15 241.5 166.55 255.65 165.7 271.45 164.7 283.35 161.4 290.3 159.5 293.3 155.95 295.85 152.9 297.35 145.95 299.1 138.05 299.2 126.35 299.25 114.65 297.65 104.0 297.6 103.55 298.75 103.15 299.95 102.75 300.0 103.15 301.8 114.7 302.0 126.25 302.2 138.75 300.45 146.6 298.8 154.1 295.6 157.85 291.95 162.2 284.3 164.3 272.3 167.65 255.4 168.1 241.0 168.55 233.4 166.95\"/><path fill=\"#0d131a\" d=\"M197.5 160.85 Q199.3 165.45 198.25 165.9 197.15 166.4 195.25 161.85 190.8 151.3 178.2 131.05 165.85 111.2 158.6 102.7 156.05 99.7 157.6 99.7 159.1 99.7 161.7 102.6 170.6 112.5 181.8 130.9 192.7 148.75 197.5 160.85\"/><path fill=\"#0d131a\" d=\"M162.15 104.5 Q163.1 104.8 163.0 105.2 160.3 113.85 160.6 128.3 160.9 142.7 163.95 149.65 166.55 155.65 177.55 159.55 187.35 163.0 196.65 162.65 197.1 162.65 197.3 163.6 197.5 164.55 197.05 164.55 186.9 164.9 176.25 161.5 163.75 157.5 160.85 150.8 157.75 143.7 157.95 128.6 158.1 114.0 161.0 104.6 L162.15 104.5\"/><path fill=\"#0d131a\" d=\"M177.5 184.7 Q178.05 184.15 179.4 184.5 187.6 186.65 194.15 187.75 195.75 188.0 196.3 188.75 L197.35 191.05 Q199.55 196.0 203.15 201.25 L204.45 202.9 Q204.9 202.9 205.75 200.15 L208.05 192.2 208.75 190.3 Q209.2 189.6 210.4 189.7 L225.45 190.15 Q227.05 190.15 227.65 190.7 227.95 190.95 229.05 192.95 L234.65 203.9 236.0 206.1 Q236.3 206.15 237.25 203.8 239.55 198.05 241.05 192.35 L241.65 190.1 Q242.0 189.45 243.7 189.3 256.6 188.2 269.85 185.65 L272.25 185.7 273.25 187.7 Q277.5 195.75 278.85 197.8 282.25 191.8 283.45 185.25 283.85 183.3 284.1 182.95 284.55 182.25 286.5 181.75 304.05 176.9 314.55 172.1 317.45 170.8 317.5 171.75 317.55 172.65 314.15 174.5 308.65 177.55 300.7 180.25 L285.9 184.6 Q284.8 190.15 282.6 195.65 280.2 201.65 278.8 201.5 278.3 201.45 276.65 198.6 L271.05 188.2 Q257.3 191.0 243.15 192.2 241.65 198.35 239.95 203.2 237.6 209.85 236.1 209.9 234.95 209.95 231.1 202.15 L226.75 193.0 210.05 192.45 209.75 193.55 206.55 204.9 Q205.85 207.0 205.15 207.05 203.8 207.2 200.25 201.15 197.05 195.75 195.0 190.65 186.2 189.15 178.8 186.95 177.25 195.0 176.2 196.3 175.35 197.4 171.7 191.6 168.2 186.1 167.15 182.8 161.35 180.35 155.85 177.0 151.1 174.1 151.05 172.8 151.0 171.55 155.75 174.45 159.85 176.9 167.3 180.25 L168.5 181.15 169.75 183.8 Q171.8 188.1 174.1 191.05 L175.15 192.15 175.7 190.65 176.8 186.35 Q177.2 185.05 177.5 184.7\"/><path fill=\"#0d131a\" d=\"M309.1 175.5 Q309.3 175.15 310.5 175.1 311.75 175.1 311.55 175.45 303.15 194.95 289.0 207.7 276.95 218.55 261.55 223.85 L259.65 223.9 257.6 222.5 252.45 217.55 Q251.55 216.7 251.3 216.7 251.0 216.7 250.55 217.75 L247.5 224.5 246.05 226.8 Q245.5 227.0 243.85 225.0 L237.8 217.4 236.85 216.25 Q236.5 216.2 235.6 217.75 L231.05 225.8 Q229.95 227.7 229.45 227.7 228.95 227.75 227.6 225.7 L221.85 217.0 220.65 215.45 Q220.25 215.35 219.35 216.95 L215.85 223.45 Q214.6 225.95 214.2 225.9 213.75 225.85 211.85 222.8 L206.9 215.1 Q206.3 214.15 206.0 214.15 205.7 214.15 205.3 215.2 L203.45 219.85 Q202.45 221.95 201.8 221.85 201.1 221.75 199.25 218.95 L195.4 213.2 Q194.65 212.0 194.3 212.0 194.0 211.95 193.65 212.95 L192.55 215.95 Q191.7 217.75 190.7 217.95 189.75 218.1 187.9 216.95 177.4 210.2 168.95 198.35 163.9 191.2 156.5 176.85 156.3 176.5 157.6 176.85 158.9 177.2 159.05 177.5 165.3 189.4 171.4 197.5 179.4 208.1 188.7 214.5 L190.25 215.45 Q190.65 215.45 191.15 214.1 L192.75 209.5 Q193.55 207.8 193.95 207.75 194.45 207.7 195.75 209.65 L200.3 216.75 Q201.4 218.45 201.6 218.4 201.85 218.4 202.55 216.45 L204.2 212.0 Q205.15 209.65 205.65 209.65 206.15 209.65 207.7 212.2 L213.15 221.45 214.15 222.8 215.1 221.25 218.7 213.7 Q219.85 211.4 220.4 211.4 220.9 211.4 222.35 213.6 L228.35 223.0 Q229.15 224.25 229.5 224.15 L230.4 222.7 234.6 215.0 Q235.9 212.7 236.45 212.65 237.0 212.65 238.7 214.8 L244.6 222.55 Q245.4 223.65 245.6 223.55 L246.3 222.1 249.2 215.2 Q250.1 213.15 250.6 213.1 L252.75 214.6 258.9 220.5 Q259.5 221.1 260.25 221.1 L262.0 220.7 Q276.45 215.5 287.45 205.6 300.35 194.05 309.1 175.5\"/><path fill=\"#0d131a\" d=\"M256.3 166.65 Q255.6 166.75 255.0 165.25 254.3 163.55 253.95 160.0 253.15 151.65 254.65 151.35 255.45 151.15 256.1 153.3 256.8 155.55 257.15 159.6 257.35 162.4 257.15 164.4 256.95 166.6 256.3 166.65\"/><path fill=\"#0d131a\" d=\"M184.3 149.1 Q185.0 149.1 185.5 151.15 186.0 153.05 186.2 156.2 186.45 159.55 186.2 161.35 186.0 162.7 185.65 162.75 184.15 162.9 183.65 156.6 183.3 153.1 183.5 151.05 183.7 149.1 184.3 149.1\"/></g></svg>",
      "text/plain": [
       "<IPython.core.display.SVG object>"
      ]
     },
     "metadata": {},
     "output_type": "display_data"
    },
    {
     "name": "stdout",
     "output_type": "stream",
     "text": [
      "................\n",
      "You've got a new gengar!\n"
     ]
    },
    {
     "data": {
      "image/svg+xml": "<svg xmlns=\"http://www.w3.org/2000/svg\" version=\"1.1\" width=\"289px\" height=\"337px\" viewBox=\"-0.1 -0.25 289.25 337.35\"><g><path fill=\"#664497\" d=\"M243.1 57.8 Q268.3 53.85 284.55 55.65 L266.55 85.6 Q252.05 109.5 244.6 123.45 249.5 121.55 257.2 119.85 264.4 118.25 269.15 117.9 269.85 117.8 269.85 118.3 L269.6 119.3 Q269.05 121.2 266.95 125.7 L263.3 133.85 273.65 133.25 Q283.6 133.0 285.35 135.65 287.1 138.35 273.4 152.45 L259.0 166.55 Q263.2 166.35 268.45 167.4 273.85 168.5 274.1 169.8 274.35 171.0 263.35 182.45 254.2 192.0 247.4 198.35 249.6 213.0 248.8 225.5 247.85 240.05 242.75 252.55 235.25 271.15 202.5 282.25 185.6 288.0 165.8 290.6 146.8 293.2 125.05 285.5 101.05 276.9 84.0 258.75 68.25 242.0 59.95 221.4 50.35 197.45 51.25 169.4 51.5 160.85 52.75 151.6 54.2 140.5 56.45 133.25 48.0 109.3 47.25 62.5 46.9 42.05 48.5 25.95 50.25 9.0 53.65 2.2 54.2 1.1 54.6 1.15 55.05 1.25 56.05 2.65 70.2 22.85 77.5 32.0 91.4 49.4 100.55 54.85 103.55 49.95 110.85 43.4 118.0 37.0 121.95 35.5 122.1 39.55 123.35 45.35 124.6 51.25 126.2 55.05 136.45 39.95 150.85 28.05 167.15 14.6 182.65 10.7 181.05 18.5 181.05 35.55 181.05 44.05 181.35 51.0 L190.0 48.6 Q200.1 46.2 207.6 46.2 L205.1 56.3 202.25 68.5 Q217.95 61.75 243.1 57.8\"/><path fill=\"#664497\" d=\"M1.9 193.5 Q2.05 192.65 5.65 190.3 L9.9 187.45 11.05 186.5 Q11.55 186.05 11.85 185.05 12.25 183.6 14.9 179.4 18.6 173.6 23.35 168.75 38.1 153.8 56.7 154.25 61.35 154.4 65.15 162.25 68.65 169.45 70.2 180.25 71.35 188.1 69.0 196.35 66.5 205.0 62.55 204.0 49.9 200.9 32.6 204.45 20.1 207.05 13.5 210.5 12.65 210.95 12.4 207.85 12.2 204.9 12.6 203.95 L8.25 203.55 3.2 203.3 Q2.9 202.85 4.55 200.4 L6.3 198.0 Q1.7 194.95 1.9 193.5\"/><path fill=\"#664497\" d=\"M125.05 264.3 Q130.45 275.95 126.7 281.5 116.35 296.8 92.9 306.0 84.7 309.25 77.0 310.85 70.3 312.25 69.0 311.65 68.25 311.35 68.65 309.75 L69.75 306.4 63.25 306.8 59.4 306.3 Q59.15 305.9 60.25 302.35 L61.35 298.55 59.8 297.85 Q58.3 297.25 58.2 296.95 57.85 295.9 62.05 290.45 L63.0 289.55 Q61.2 287.15 59.25 280.9 56.5 272.25 57.25 264.8 58.0 257.25 64.8 249.4 72.0 241.15 80.7 239.25 87.2 237.8 94.4 239.3 103.35 241.2 112.05 247.5 119.9 253.25 125.05 264.3\"/><path fill=\"#664497\" d=\"M171.8 266.85 Q184.0 257.15 194.7 253.95 207.15 250.2 219.25 251.45 231.15 252.65 235.4 257.9 244.2 268.7 245.45 289.1 246.35 304.3 243.7 313.25 244.55 316.2 244.55 320.05 244.55 324.0 243.5 324.4 L238.75 324.3 Q235.05 323.85 233.95 323.15 L231.35 327.9 Q229.5 331.15 228.75 331.6 228.05 332.05 223.0 330.35 L217.55 328.35 Q215.8 330.4 213.1 332.6 210.3 334.8 209.65 334.7 208.6 334.45 204.2 322.95 186.65 315.55 174.55 304.0 162.8 292.75 160.45 281.85 159.35 276.75 171.8 266.85\"/><path fill=\"#664497\" d=\"M253.2 284.3 Q244.75 286.25 239.95 284.4 235.05 282.45 231.9 278.5 228.05 273.65 228.2 267.1 228.35 261.85 233.6 258.5 238.45 255.45 240.9 256.9 242.85 258.1 252.55 266.9 262.95 276.4 262.8 277.75 262.3 282.25 253.2 284.3\"/><path fill=\"#664497\" d=\"M222.3 173.7 Q236.85 172.5 248.8 182.9 255.65 188.8 259.8 196.45 260.75 198.15 261.7 197.65 263.0 197.0 266.25 196.7 270.15 196.3 271.1 197.55 L270.3 199.95 Q269.4 202.1 269.65 202.1 270.8 202.1 273.75 203.25 277.45 204.7 277.45 206.4 L274.7 208.3 Q271.95 209.9 271.95 210.15 L274.2 212.25 Q276.35 214.15 276.15 214.7 276.0 215.1 273.65 215.85 L271.0 216.65 Q265.4 219.75 255.85 221.95 247.35 223.9 239.5 224.35 233.1 224.75 224.8 223.0 215.7 221.05 211.6 217.85 209.25 215.95 206.5 208.95 202.85 199.7 204.05 191.05 204.85 185.15 212.0 179.25 218.3 174.1 222.3 173.7\"/><path fill=\"#ffffff\" d=\"M174.0 173.5 Q176.4 172.6 177.1 174.05 177.6 175.15 177.15 177.35 175.65 183.95 172.35 190.75 168.95 197.75 164.9 202.35 163.0 204.45 159.25 206.95 154.65 210.0 151.2 210.75 137.8 213.55 117.25 208.6 96.8 203.65 88.35 195.75 82.15 189.9 77.3 183.0 72.6 176.3 71.2 171.6 70.45 169.1 69.55 164.5 68.55 159.4 69.15 160.05 74.8 165.95 89.8 171.45 104.45 176.8 116.85 177.7 130.25 178.7 143.15 178.3 163.5 177.65 174.0 173.5\"/><path fill=\"#593984\" d=\"M284.05 136.15 Q285.45 135.4 285.85 135.9 286.2 136.35 285.6 137.45 283.45 141.15 269.85 155.65 255.3 171.2 250.65 173.5 L249.55 168.1 248.4 163.3 Q250.95 162.05 265.5 150.75 L284.05 136.15\"/><path fill=\"#593984\" d=\"M251.2 184.6 L260.4 178.45 272.1 170.05 Q273.45 168.9 273.25 170.4 271.95 172.85 264.25 181.0 L255.5 189.95 253.65 187.6 Q252.05 185.9 251.2 184.6\"/><path fill=\"#593984\" d=\"M176.35 29.7 Q179.4 17.6 181.35 13.5 L181.85 12.95 Q182.2 12.65 182.15 13.3 181.3 20.0 180.7 29.95 179.95 43.05 180.65 49.1 180.7 49.7 180.2 50.7 L179.25 51.8 176.15 53.85 Q174.7 54.6 174.25 53.1 172.2 46.2 176.35 29.7\"/><path fill=\"#593984\" d=\"M207.2 49.35 Q207.1 51.8 205.15 59.25 203.2 66.65 203.2 67.5 201.8 67.6 199.15 69.25 196.35 71.0 195.25 71.2 194.1 69.75 199.0 58.75 203.95 47.65 206.15 47.9 L206.75 48.35 Q207.2 48.8 207.2 49.35\"/><path fill=\"#593984\" d=\"M123.2 46.35 Q124.35 51.5 125.65 55.45 L122.9 60.9 Q121.3 59.05 120.1 56.5 118.6 53.45 118.35 50.7 118.05 47.2 119.75 41.65 121.3 36.55 121.9 36.65 121.85 40.1 123.2 46.35\"/><path fill=\"#593984\" d=\"M47.65 27.4 Q48.0 24.55 48.85 22.75 49.7 20.9 49.75 23.4 50.2 43.45 53.9 66.9 58.5 95.9 65.85 112.3 L61.85 120.25 Q58.2 127.25 56.05 132.2 48.35 108.6 46.6 73.7 45.15 45.8 47.65 27.4\"/><path fill=\"#593984\" d=\"M52.4 196.25 L54.15 203.2 Q44.55 202.45 39.0 203.45 36.0 204.0 24.1 207.8 L23.2 207.2 Q22.5 206.5 23.05 206.25 45.8 196.3 51.15 190.5 51.2 191.75 52.4 196.25\"/><path fill=\"#593984\" d=\"M253.7 222.6 Q245.8 224.55 239.95 224.85 232.75 225.3 223.95 223.25 215.55 221.25 212.7 218.75 221.0 219.4 232.0 219.05 243.3 218.7 248.25 217.5 L252.25 216.95 254.6 217.0 Q256.4 218.8 264.05 217.55 L271.3 215.95 Q264.3 220.05 253.7 222.6\"/><path fill=\"#593984\" d=\"M109.7 268.3 Q135.15 281.5 159.0 280.8 160.6 280.75 162.75 285.6 164.95 290.45 162.45 290.7 150.45 292.0 136.5 288.7 122.15 285.25 108.6 277.55 77.4 259.8 63.5 228.45 61.9 224.9 61.65 223.75 61.45 222.8 62.3 224.15 79.95 252.8 109.7 268.3\"/><path fill=\"#593984\" d=\"M106.1 276.55 Q107.55 277.55 113.4 280.05 L122.4 284.0 Q125.35 285.4 117.6 292.4 110.15 299.15 102.7 302.6 98.5 304.55 90.65 306.55 82.95 308.5 84.15 307.8 91.8 303.4 98.7 293.25 105.15 283.8 105.9 277.35 L105.9 276.5 106.1 276.55\"/><path fill=\"#593984\" d=\"M243.7 285.85 Q240.65 267.95 242.75 270.1 246.2 273.7 252.85 276.95 258.2 279.6 261.5 280.3 263.3 280.7 255.9 283.8 248.55 286.9 243.7 285.85\"/><path fill=\"#593984\" d=\"M251.75 94.2 Q263.25 79.55 272.9 68.5 282.75 57.25 283.65 57.9 278.2 65.35 260.75 94.95 242.5 125.8 235.75 139.45 L241.6 147.3 Q245.3 152.85 246.85 157.6 249.1 164.35 250.75 174.85 252.25 184.8 251.45 184.6 250.0 183.25 244.3 179.9 236.85 175.6 230.8 173.65 230.8 163.7 228.35 153.85 226.15 145.0 222.8 139.15 221.8 132.55 251.75 94.2\"/><path fill=\"#593984\" d=\"M232.0 224.75 L242.35 224.2 249.8 222.85 Q248.2 235.25 238.55 261.55 234.95 256.45 232.35 254.3 232.8 248.95 230.95 241.35 229.3 234.5 228.3 234.1 221.7 231.9 216.55 226.6 212.15 222.1 211.0 217.9 215.2 220.0 221.75 222.15 228.05 224.15 232.0 224.75\"/><path fill=\"#0d131a\" d=\"M100.6 53.8 Q101.75 54.65 100.95 55.6 100.1 56.6 99.4 56.05 89.55 48.65 76.0 32.85 63.15 17.85 56.75 7.0 55.5 4.85 55.05 4.75 54.2 4.55 53.25 7.85 47.9 25.6 49.0 65.2 50.1 104.8 56.7 129.8 57.5 133.0 57.2 134.8 56.85 136.65 55.6 133.45 47.7 113.0 45.8 70.6 43.85 27.55 50.35 6.65 52.3 0.35 54.6 0.05 56.85 -0.25 59.85 5.05 67.05 17.5 80.05 32.95 92.7 48.0 100.6 53.8\"/><path fill=\"#0d131a\" d=\"M125.15 46.6 Q126.15 51.8 127.2 54.65 127.45 55.25 126.55 56.3 125.65 57.35 125.3 56.5 123.7 52.7 122.5 46.75 121.5 41.85 121.3 38.6 L121.15 38.0 120.55 38.1 Q115.6 41.05 107.35 49.3 95.75 60.85 91.6 71.15 90.95 72.8 90.25 72.45 89.55 72.05 90.4 69.2 92.5 62.25 102.25 51.05 111.4 40.5 118.25 36.15 122.0 33.75 122.8 33.95 123.5 34.1 123.75 37.05 124.15 41.55 125.15 46.6\"/><path fill=\"#0d131a\" d=\"M182.8 33.4 Q182.05 43.9 182.2 49.9 182.25 51.75 181.1 52.2 179.95 52.65 179.8 51.2 179.05 43.6 179.55 34.1 179.9 27.8 181.05 17.35 181.5 13.65 180.85 12.95 L178.15 13.15 Q164.9 17.6 149.25 31.15 132.85 45.3 123.95 61.0 122.85 62.95 122.4 62.45 121.95 61.9 122.85 59.3 126.45 49.4 142.05 33.95 159.85 16.25 176.8 9.7 183.75 7.0 184.85 8.0 185.6 8.6 184.8 14.15 183.6 22.7 182.8 33.4\"/><path fill=\"#0d131a\" d=\"M202.0 45.0 Q208.6 44.5 209.3 45.1 209.8 45.55 208.45 49.85 205.7 58.6 204.35 67.0 204.15 68.35 203.15 68.75 202.15 69.1 202.2 67.95 202.35 63.7 203.25 58.65 L204.8 51.25 Q205.3 48.65 204.7 48.2 L201.3 48.1 Q195.15 48.85 188.6 50.6 182.45 52.2 177.15 54.35 173.55 55.8 173.4 54.95 173.2 54.15 176.4 52.4 181.25 49.75 188.75 47.6 196.25 45.4 202.0 45.0\"/><path fill=\"#0d131a\" d=\"M260.05 117.55 L270.45 117.25 Q271.5 117.9 269.2 124.4 267.0 130.55 264.95 133.6 264.25 134.65 262.55 134.35 260.8 134.05 261.3 133.2 264.25 128.55 266.1 124.15 267.85 119.9 267.15 119.6 266.1 119.15 259.65 120.5 251.65 122.15 243.4 125.6 241.9 126.25 242.3 124.9 242.7 123.55 244.65 122.45 250.5 119.2 260.05 117.55\"/><path fill=\"#0d131a\" d=\"M243.2 59.25 Q219.75 63.1 198.0 71.05 192.85 72.9 192.4 72.35 191.95 71.8 196.2 69.55 208.1 63.3 232.15 58.3 257.2 53.05 276.15 53.45 285.3 53.65 286.1 55.3 286.75 56.8 281.95 64.5 L258.85 101.75 Q249.35 117.5 239.5 134.9 235.1 142.65 234.55 141.45 233.95 140.25 237.55 133.3 245.85 117.2 259.75 93.85 270.45 76.0 280.0 61.15 281.75 58.45 281.3 57.55 280.9 56.75 277.9 56.6 263.25 56.0 243.2 59.25\"/><path fill=\"#0d131a\" d=\"M56.15 129.25 Q61.3 114.3 68.7 104.75 72.3 100.05 74.15 98.55 76.25 96.8 72.5 103.1 62.65 119.6 58.25 133.1 53.05 148.8 52.5 167.9 51.6 198.4 62.45 223.65 72.15 246.15 90.15 262.45 106.35 277.15 126.45 284.35 145.35 291.2 162.2 289.55 L163.85 290.8 Q165.25 292.05 164.9 292.1 145.6 293.95 125.3 286.95 104.05 279.6 87.25 264.3 68.85 247.65 59.1 224.35 48.3 198.55 49.3 167.25 49.95 147.2 56.15 129.25\"/><path fill=\"#0d131a\" d=\"M3.5 193.85 Q3.5 194.15 4.9 195.25 6.2 196.3 7.0 196.7 7.75 197.05 7.6 197.95 7.45 198.85 5.85 198.2 -0.1 195.9 0.0 194.0 0.1 192.75 4.8 189.8 9.65 186.8 9.75 186.45 14.05 174.7 25.0 165.05 37.2 154.3 52.5 151.45 54.05 151.15 53.35 153.3 52.6 155.45 51.2 155.75 37.6 158.95 27.4 167.25 17.1 175.6 11.8 187.9 11.5 188.6 7.45 191.1 3.5 193.55 3.5 193.85\"/><path fill=\"#0d131a\" d=\"M125.3 285.95 Q115.2 298.35 94.75 307.05 86.1 310.75 78.8 312.15 71.35 313.6 67.9 312.15 66.45 311.55 67.55 308.2 68.25 306.0 69.4 304.05 71.15 301.05 71.85 301.4 72.55 301.7 71.7 304.4 71.1 306.15 70.95 307.55 70.8 309.2 71.35 309.65 72.4 310.5 78.7 309.0 85.3 307.35 93.1 304.15 113.85 295.65 121.7 285.0 122.3 284.2 124.1 284.7 125.95 285.15 125.3 285.95\"/><path fill=\"#0d131a\" d=\"M63.45 298.5 Q62.6 300.1 61.8 302.6 60.95 305.25 61.25 305.7 61.75 306.4 69.75 304.75 71.35 304.65 70.95 305.55 70.65 306.35 69.6 306.8 66.85 308.05 63.2 308.75 58.75 309.6 57.95 308.3 57.3 307.25 58.65 303.1 60.0 299.15 61.25 297.75 62.7 296.1 63.6 296.35 64.5 296.6 63.45 298.5\"/><path fill=\"#0d131a\" d=\"M57.55 293.5 Q59.85 289.8 62.05 288.3 62.7 287.8 63.7 288.95 64.65 290.05 64.05 290.45 62.05 291.8 60.55 294.15 59.25 296.1 59.4 296.65 59.55 297.0 60.95 297.25 L62.95 297.6 Q63.5 297.7 62.95 298.9 62.35 300.1 61.65 300.05 L58.75 299.7 Q56.45 299.2 55.9 298.3 55.25 297.25 57.55 293.5\"/><path fill=\"#0d131a\" d=\"M70.35 243.4 Q72.65 242.2 72.95 243.55 73.25 244.9 72.0 245.6 60.45 252.3 59.0 267.1 57.45 282.35 68.3 294.4 70.35 296.65 69.75 297.5 69.2 298.35 66.85 295.95 52.8 281.55 55.75 264.6 57.0 257.55 61.1 251.75 65.0 246.2 70.35 243.4\"/><path fill=\"#0d131a\" d=\"M158.75 281.45 Q157.1 275.4 158.2 275.25 159.3 275.1 161.55 281.3 166.9 296.0 179.45 306.65 188.9 314.6 204.95 322.0 205.8 322.4 207.8 327.5 209.8 332.5 210.35 332.65 211.35 332.95 214.25 329.4 L216.9 325.85 Q227.2 330.85 228.25 330.5 229.25 330.2 232.9 320.5 241.8 323.3 242.6 322.6 243.25 322.0 243.05 320.05 242.75 317.8 241.4 314.65 241.3 314.35 241.55 313.4 244.95 301.65 242.65 285.8 240.2 269.1 232.6 256.95 230.05 252.85 231.3 252.6 232.55 252.4 235.0 255.55 244.0 267.25 246.25 285.25 248.15 301.0 244.4 313.3 244.3 313.6 245.55 318.55 246.6 323.7 245.8 325.0 244.95 326.35 239.9 325.3 L234.6 323.95 233.1 328.55 Q231.25 333.4 229.6 334.35 228.5 335.0 222.9 332.25 L217.55 329.4 214.25 333.3 Q210.7 337.1 209.45 336.85 207.7 336.5 205.35 330.2 202.9 323.7 201.75 323.25 183.7 315.85 173.75 306.6 162.8 296.4 158.75 281.45\"/><path fill=\"#0d131a\" d=\"M77.2 118.0 Q79.1 124.5 87.1 139.2 96.15 155.8 102.3 161.75 L104.0 163.3 Q104.65 164.0 103.9 163.95 92.85 163.25 84.7 160.55 74.85 157.25 71.35 151.55 67.25 144.8 68.8 134.95 70.35 125.25 76.55 117.95 L76.8 117.65 Q77.05 117.5 77.2 118.0\"/><path fill=\"#e50020\" d=\"M76.9 120.4 Q78.45 124.9 86.7 140.15 95.95 157.2 99.9 160.85 100.8 161.7 100.25 161.75 94.1 161.75 86.7 159.25 77.15 156.0 73.9 150.55 69.95 143.95 71.4 134.35 72.65 125.85 76.9 120.4\"/><path fill=\"#0d131a\" d=\"M175.95 163.35 Q169.95 168.5 155.4 168.95 142.3 169.35 131.7 166.15 130.55 165.8 131.7 165.55 L134.5 164.8 Q141.25 162.1 161.05 150.2 180.15 138.7 182.35 136.4 183.45 143.25 182.15 150.5 180.6 159.35 175.95 163.35\"/><path fill=\"#e50020\" d=\"M172.45 162.6 Q165.4 166.95 151.55 166.95 141.5 166.95 135.75 165.45 140.15 163.35 158.45 152.4 177.7 140.9 180.5 138.45 181.35 141.85 180.3 148.6 178.75 158.7 172.45 162.6\"/><path fill=\"#0d131a\" d=\"M181.85 164.55 Q182.1 162.75 182.95 163.85 183.75 164.95 183.2 167.55 181.6 175.15 163.0 178.4 144.1 181.65 116.6 178.75 101.9 177.2 86.55 170.9 71.25 164.6 66.2 158.05 64.75 156.15 65.4 155.85 66.1 155.55 68.35 157.7 74.35 163.45 87.2 168.6 101.15 174.25 115.85 176.0 142.95 179.2 161.45 176.2 180.65 173.05 181.85 164.55\"/><path fill=\"#0d131a\" d=\"M176.85 173.15 Q177.3 171.25 178.4 170.8 179.45 170.4 179.25 172.0 177.85 183.5 172.75 193.55 165.9 207.05 154.8 211.4 151.15 212.8 143.0 212.85 134.3 212.95 124.65 211.4 100.1 207.45 87.45 196.65 80.0 190.25 75.8 183.7 69.05 173.1 68.1 159.5 68.0 158.5 68.9 159.05 69.8 159.65 70.0 160.85 71.1 169.25 75.1 177.2 80.1 187.3 88.9 194.9 100.1 204.55 124.35 208.7 134.2 210.35 142.65 210.35 151.0 210.35 154.45 208.7 165.2 203.6 171.6 189.65 174.25 183.9 176.85 173.15\"/><path fill=\"#0d131a\" d=\"M90.2 147.5 Q90.75 149.5 90.65 151.4 90.55 153.9 90.05 155.6 89.55 157.35 88.9 157.35 88.3 157.35 87.95 155.25 87.65 153.5 87.65 151.35 87.65 149.25 88.0 147.45 88.45 145.45 89.05 145.45 89.7 145.45 90.2 147.5\"/><path fill=\"#0d131a\" d=\"M165.35 155.45 Q165.35 157.55 164.95 159.25 164.4 161.5 163.35 161.5 162.55 161.5 161.9 159.2 161.35 157.2 161.35 155.35 161.35 153.55 161.85 151.8 162.45 149.85 163.25 149.85 164.05 149.85 164.7 151.85 165.35 153.7 165.35 155.45\"/><path fill=\"#0d131a\" d=\"M83.15 191.1 Q82.5 187.15 81.85 179.6 L80.8 167.5 Q80.7 166.3 82.05 167.05 83.45 167.75 83.35 168.8 83.25 170.8 85.75 193.05 85.75 194.0 84.7 193.75 83.55 193.45 83.15 191.1\"/><path fill=\"#0d131a\" d=\"M100.75 188.25 L102.25 203.35 Q102.4 204.65 101.05 204.0 99.65 203.3 99.45 201.35 L97.95 187.6 Q97.15 179.2 97.3 173.7 97.35 172.35 98.65 172.8 100.0 173.25 99.9 174.6 99.75 177.0 100.75 188.25\"/><path fill=\"#0d131a\" d=\"M124.45 194.55 Q123.1 180.45 123.3 178.0 123.4 176.85 124.65 177.2 125.9 177.6 125.95 178.85 127.3 198.7 129.55 209.85 129.85 211.4 128.4 211.6 127.0 211.8 126.5 210.6 125.8 208.9 124.45 194.55\"/><path fill=\"#0d131a\" d=\"M152.0 193.6 Q150.15 180.65 150.1 178.85 150.05 177.5 151.5 177.55 152.9 177.6 153.0 178.65 153.35 182.55 155.15 193.7 L157.4 207.6 Q157.7 209.7 156.45 210.65 155.2 211.55 154.8 210.2 154.0 207.2 152.0 193.6\"/><path fill=\"#0d131a\" d=\"M228.05 173.0 Q238.45 173.7 247.15 179.6 257.3 186.45 260.95 198.1 261.25 199.0 260.2 199.5 259.15 200.0 258.7 198.7 255.8 190.2 247.45 183.6 238.6 176.65 226.65 174.3 224.95 173.95 225.65 173.45 226.35 172.9 228.05 173.0\"/><path fill=\"#0d131a\" d=\"M238.95 134.25 Q248.55 132.3 267.2 132.15 287.0 132.0 287.9 134.65 289.15 138.25 272.25 155.95 256.2 172.7 251.6 175.0 L250.05 174.9 Q249.75 174.15 251.35 172.45 L268.95 154.8 Q284.75 138.3 283.65 136.35 282.8 134.9 265.4 135.0 247.15 135.15 237.0 137.3 235.65 137.6 236.65 136.05 237.6 134.5 238.95 134.25\"/><path fill=\"#0d131a\" d=\"M192.9 165.8 Q193.0 162.3 191.8 160.55 190.8 159.05 188.9 159.0 185.35 159.0 187.95 158.05 191.4 156.8 193.2 158.9 195.1 161.1 194.15 165.95 193.75 168.0 193.3 168.1 192.85 168.2 192.9 165.8\"/><path fill=\"#0d131a\" d=\"M267.5 169.1 L257.55 168.4 Q256.65 168.4 257.3 167.15 257.95 165.85 259.5 165.75 264.25 165.4 270.4 166.65 276.5 167.85 277.0 169.3 277.45 170.65 267.4 180.3 257.55 189.8 255.8 190.3 255.2 190.5 254.5 189.7 253.8 188.95 254.5 188.35 259.35 184.35 265.95 177.4 272.15 170.85 272.0 170.3 271.8 169.7 267.5 169.1\"/><path fill=\"#0d131a\" d=\"M245.0 286.55 Q242.85 285.65 242.8 284.55 242.75 283.35 245.45 283.6 250.5 284.0 255.15 282.4 259.85 280.75 260.75 278.1 261.3 276.5 254.8 269.95 248.15 263.2 240.65 258.0 240.05 257.55 240.7 256.35 241.3 255.1 241.8 255.4 248.55 259.75 256.0 266.6 265.9 275.7 264.9 279.55 263.9 283.4 255.65 285.7 248.1 287.8 245.0 286.55\"/><path fill=\"#0d131a\" d=\"M8.1 195.55 Q9.7 194.55 9.85 195.1 10.0 195.6 9.05 196.9 L6.35 199.9 Q4.55 201.85 4.8 202.3 5.15 202.85 8.1 202.85 L13.4 202.45 Q13.7 202.4 13.8 203.35 13.9 204.25 13.35 204.4 L6.25 205.1 Q1.85 205.15 1.35 204.3 0.7 203.3 2.5 200.75 4.5 197.85 8.1 195.55\"/><path fill=\"#0d131a\" d=\"M53.65 201.55 Q54.7 201.65 55.2 203.6 55.7 205.5 54.25 205.3 41.2 203.4 25.9 208.1 L16.65 211.35 Q12.8 212.7 12.1 212.3 10.95 211.7 11.2 208.2 11.35 205.25 12.1 203.3 13.15 200.45 14.0 200.25 14.8 200.0 14.4 202.7 L13.9 206.35 Q13.6 208.65 14.0 209.0 14.3 209.3 17.4 208.0 22.3 205.9 25.45 204.85 39.35 200.15 53.65 201.55\"/><path fill=\"#0d131a\" d=\"M270.5 195.65 Q273.35 196.2 271.6 198.9 270.55 200.45 268.7 204.8 267.95 206.55 267.4 206.15 266.8 205.75 267.55 203.3 267.9 202.05 268.75 200.1 L269.45 198.2 265.7 198.1 Q261.55 198.65 258.8 200.35 258.25 200.65 257.75 199.9 257.25 199.1 257.85 198.65 260.35 196.8 264.05 195.9 L270.5 195.65\"/><path fill=\"#0d131a\" d=\"M278.55 206.25 Q278.65 207.8 271.7 211.3 269.7 212.25 269.55 211.65 269.45 211.1 271.25 209.7 L274.25 207.4 275.75 206.15 Q275.6 205.2 273.5 204.3 271.0 203.2 268.2 203.7 267.4 203.85 267.8 202.95 268.15 202.05 269.35 201.75 272.4 201.05 275.55 202.9 278.4 204.6 278.55 206.25\"/><path fill=\"#0d131a\" d=\"M270.75 210.25 L272.4 210.05 Q274.1 210.35 275.85 212.65 277.55 214.9 277.05 215.85 276.7 216.6 273.95 216.95 L271.0 217.25 Q254.1 224.75 240.0 225.85 224.5 227.0 213.75 220.3 209.85 217.9 210.7 217.45 211.55 217.05 215.65 219.0 227.15 224.5 244.45 222.15 254.65 220.8 270.75 215.65 L273.05 215.25 Q274.55 215.0 274.65 214.65 274.85 214.2 273.65 213.0 272.4 211.75 270.8 210.85 270.3 210.6 270.75 210.25\"/><path fill=\"#0d131a\" d=\"M250.95 222.95 Q248.75 236.9 246.75 244.75 243.7 256.65 239.2 263.75 237.6 266.3 237.25 264.55 236.9 262.9 237.7 260.95 241.1 252.45 243.3 244.25 245.6 235.45 247.35 223.75 247.5 222.65 249.3 222.25 251.15 221.85 250.95 222.95\"/><path fill=\"#0d131a\" d=\"M240.95 147.9 Q239.75 145.65 241.05 146.5 242.3 147.4 243.95 150.2 248.25 157.5 250.45 167.2 252.2 174.9 252.7 184.95 252.85 188.5 250.9 185.95 248.85 183.4 248.9 181.65 249.1 173.5 246.85 164.2 244.7 155.15 240.95 147.9\"/><path fill=\"#ffffff\" d=\"M88.95 148.45 Q89.05 147.05 89.2 147.05 89.4 147.05 89.4 150.75 89.4 153.7 89.15 153.7 88.8 153.7 88.8 150.9 L88.95 148.45\"/><path fill=\"#ffffff\" d=\"M163.7 154.65 Q163.7 157.9 163.35 157.7 162.95 157.5 162.95 154.7 162.95 151.05 163.3 151.05 163.7 151.05 163.7 154.65\"/><path fill=\"#0d131a\" d=\"M185.65 134.95 Q181.75 139.15 165.8 148.9 150.6 158.2 137.05 164.95 133.95 166.5 132.2 167.05 129.65 167.85 127.55 167.45 125.2 167.05 124.65 165.6 124.45 165.1 124.6 164.75 L125.0 164.7 Q126.25 165.9 129.1 165.55 131.85 165.15 135.4 163.35 145.1 158.4 158.75 150.25 174.5 140.85 183.35 134.25 186.45 131.95 187.15 132.3 187.8 132.7 185.65 134.95\"/><path fill=\"#0d131a\" d=\"M76.7 114.3 Q79.35 125.5 88.45 140.8 96.8 154.8 104.75 162.95 106.65 164.85 105.9 165.4 105.1 165.95 102.2 163.1 93.25 154.25 84.95 139.4 76.6 124.65 75.3 115.35 74.9 112.7 75.5 112.2 76.05 111.7 76.7 114.3\"/></g></svg>",
      "text/plain": [
       "<IPython.core.display.SVG object>"
      ]
     },
     "metadata": {},
     "output_type": "display_data"
    }
   ],
   "source": [
    "gengar.evolve()"
   ]
  },
  {
   "cell_type": "code",
   "execution_count": null,
   "metadata": {},
   "outputs": [],
   "source": []
  },
  {
   "cell_type": "code",
   "execution_count": null,
   "metadata": {},
   "outputs": [],
   "source": []
  },
  {
   "cell_type": "markdown",
   "metadata": {},
   "source": [
    "#  Final Exercise: <br> <br>Create a Move_Tutor Class that will allow the Pokemon Class to inherit a move list.\n",
    "<br>\n",
    "<p>for an added bonus you can make sure that if a pokemon has 4 moves the user can choose one of them to replace with a new move. </p>"
   ]
  },
  {
   "cell_type": "code",
   "execution_count": 36,
   "metadata": {},
   "outputs": [],
   "source": []
  },
  {
   "cell_type": "code",
   "execution_count": 5,
   "metadata": {},
   "outputs": [],
   "source": [
    "class Move_Tutor:\n",
    "    def __init__(self):\n",
    "        self.move_list = []\n",
    "  \n",
    "    # def poke_api_call(self):\n",
    "    #     r = requests.get(f\"https://pokeapi.co/api/v2/pokemon/{self.name}\")\n",
    "    #     if r.status_code == 200:\n",
    "    #         pokemon = r.json()\n",
    "    #     else:\n",
    "    #         print(f'Ran into an issue {r.status_code}')\n",
    "    #         return\n",
    "    #     self.name = pokemon['name']\n",
    "    #     self.types = [ poke['type']['name'] for poke in pokemon['types']]\n",
    "    #     self.abilities -= [ poke['ability']['name'] for poke in pokemon['abilities']]\n",
    "    #     self.weight= pokemon['weight']\n",
    "        \n",
    "    def teach_new_move(self):\n",
    "        response = input(f'what move would you like to teach?')\n",
    "        move = self.teach_move(response)\n",
    "        if len(self.move_list)>= 4:\n",
    "           print('too many moves. please replace a move')\n",
    "           print(self.move_list)\n",
    "           drop_move = input('what move would you like to remove?')\n",
    "           self.move_list.remove(drop_move)\n",
    "        self.move_list.append(move)\n",
    "        print(f'{self.name} has learned {move}')\n",
    "\n",
    "    def teach_move(self, new_move):\n",
    "        r = requests.get(f\"https://pokeapi.co/api/v2/move/{new_move}\")\n",
    "        if r.status_code == 200:\n",
    "            moves = r.json()\n",
    "            move = moves['name']\n",
    "            poke_dict = {'name': move}\n",
    "            return poke_dict\n",
    "        else:\n",
    "            print(f'Ran into an issue {r.status_code}')\n",
    "            return"
   ]
  },
  {
   "cell_type": "code",
   "execution_count": 52,
   "metadata": {},
   "outputs": [],
   "source": []
  },
  {
   "cell_type": "code",
   "execution_count": 7,
   "metadata": {},
   "outputs": [
    {
     "ename": "NameError",
     "evalue": "name 'pikachu' is not defined",
     "output_type": "error",
     "traceback": [
      "\u001b[1;31m---------------------------------------------------------------------------\u001b[0m",
      "\u001b[1;31mNameError\u001b[0m                                 Traceback (most recent call last)",
      "\u001b[1;32m~\\AppData\\Local\\Temp/ipykernel_19628/422377720.py\u001b[0m in \u001b[0;36m<module>\u001b[1;34m\u001b[0m\n\u001b[1;32m----> 1\u001b[1;33m \u001b[0mpikachu\u001b[0m\u001b[1;33m.\u001b[0m\u001b[0mteach_new_move\u001b[0m\u001b[1;33m(\u001b[0m\u001b[1;33m)\u001b[0m\u001b[1;33m\u001b[0m\u001b[1;33m\u001b[0m\u001b[0m\n\u001b[0m",
      "\u001b[1;31mNameError\u001b[0m: name 'pikachu' is not defined"
     ]
    }
   ],
   "source": [
    "pikachu.teach_new_move()"
   ]
  },
  {
   "cell_type": "code",
   "execution_count": 8,
   "metadata": {},
   "outputs": [
    {
     "ename": "NameError",
     "evalue": "name 'pikachu' is not defined",
     "output_type": "error",
     "traceback": [
      "\u001b[1;31m---------------------------------------------------------------------------\u001b[0m",
      "\u001b[1;31mNameError\u001b[0m                                 Traceback (most recent call last)",
      "\u001b[1;32m~\\AppData\\Local\\Temp/ipykernel_19628/2380282965.py\u001b[0m in \u001b[0;36m<module>\u001b[1;34m\u001b[0m\n\u001b[1;32m----> 1\u001b[1;33m \u001b[0mpikachu\u001b[0m\u001b[1;33m.\u001b[0m\u001b[0mteach_move\u001b[0m\u001b[1;33m(\u001b[0m\u001b[1;33m)\u001b[0m\u001b[1;33m\u001b[0m\u001b[1;33m\u001b[0m\u001b[0m\n\u001b[0m",
      "\u001b[1;31mNameError\u001b[0m: name 'pikachu' is not defined"
     ]
    }
   ],
   "source": [
    "pikachu.teach_move()\n"
   ]
  },
  {
   "cell_type": "code",
   "execution_count": 9,
   "metadata": {},
   "outputs": [
    {
     "ename": "NameError",
     "evalue": "name 'pikachu' is not defined",
     "output_type": "error",
     "traceback": [
      "\u001b[1;31m---------------------------------------------------------------------------\u001b[0m",
      "\u001b[1;31mNameError\u001b[0m                                 Traceback (most recent call last)",
      "\u001b[1;32m~\\AppData\\Local\\Temp/ipykernel_19628/2047378888.py\u001b[0m in \u001b[0;36m<module>\u001b[1;34m\u001b[0m\n\u001b[1;32m----> 1\u001b[1;33m \u001b[0mpikachu\u001b[0m\u001b[1;33m.\u001b[0m\u001b[0mshow_moves\u001b[0m\u001b[1;33m(\u001b[0m\u001b[1;33m)\u001b[0m\u001b[1;33m\u001b[0m\u001b[1;33m\u001b[0m\u001b[0m\n\u001b[0m",
      "\u001b[1;31mNameError\u001b[0m: name 'pikachu' is not defined"
     ]
    }
   ],
   "source": [
    "pikachu.show_moves()"
   ]
  },
  {
   "cell_type": "code",
   "execution_count": null,
   "metadata": {},
   "outputs": [],
   "source": [
    "# Electric Company\n",
    "# Create a function that given a list which represents street lights given as \n",
    "# a parameter(l_street), determine if an outage has occurred. \n",
    "# A street with a total number of \"F\" greater than or equal to 2 returns \n",
    "# \"Outage\", anything below returns \"Power\"\n",
    "# Example Input: [ 'T', 'F', 'F', 'F' ]\n",
    "# Example Output: \"Outage\""
   ]
  },
  {
   "cell_type": "code",
   "execution_count": null,
   "metadata": {},
   "outputs": [],
   "source": [
    "\tdef lights_out(s_list):\n",
    "2\t    lights = 'Power'\n",
    "3\t    if s_list.count('F') > 1:\n",
    "4\t        lights = 'Outage'\n",
    "5\t    return lights"
   ]
  }
 ],
 "metadata": {
  "kernelspec": {
   "display_name": "Python 3",
   "language": "python",
   "name": "python3"
  },
  "language_info": {
   "codemirror_mode": {
    "name": "ipython",
    "version": 3
   },
   "file_extension": ".py",
   "mimetype": "text/x-python",
   "name": "python",
   "nbconvert_exporter": "python",
   "pygments_lexer": "ipython3",
   "version": "3.9.7"
  }
 },
 "nbformat": 4,
 "nbformat_minor": 4
}
